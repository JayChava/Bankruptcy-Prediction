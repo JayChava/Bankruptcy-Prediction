{
 "cells": [
  {
   "cell_type": "code",
   "execution_count": 2,
   "metadata": {},
   "outputs": [
    {
     "name": "stderr",
     "output_type": "stream",
     "text": [
      "C:\\Users\\jayan\\Anaconda3\\envs\\accounting\\lib\\site-packages\\sklearn\\utils\\deprecation.py:144: FutureWarning: The sklearn.metrics.classification module is  deprecated in version 0.22 and will be removed in version 0.24. The corresponding classes / functions should instead be imported from sklearn.metrics. Anything that cannot be imported from sklearn.metrics is now part of the private API.\n",
      "  warnings.warn(message, FutureWarning)\n"
     ]
    }
   ],
   "source": [
    "import matplotlib.pyplot as plt\n",
    "import seaborn as sns\n",
    "import pandas as pd\n",
    "import numpy as np\n",
    "from sklearn.ensemble import RandomForestClassifier\n",
    "from sklearn import svm\n",
    "from sklearn.metrics import roc_curve, auc\n",
    "from sklearn.linear_model import LogisticRegression\n",
    "from sklearn.model_selection import train_test_split\n",
    "from sklearn.metrics import classification_report\n",
    "from sklearn.naive_bayes import GaussianNB\n",
    "from sklearn.tree import DecisionTreeClassifier\n",
    "from sklearn.metrics import accuracy_score\n",
    "from sklearn.preprocessing import StandardScaler\n",
    "from sklearn.metrics import f1_score\n",
    "from yellowbrick.classifier import ConfusionMatrix\n",
    "from sklearn.model_selection import cross_val_score\n",
    "\n",
    "%matplotlib inline"
   ]
  },
  {
   "cell_type": "code",
   "execution_count": 3,
   "metadata": {},
   "outputs": [
    {
     "data": {
      "text/html": [
       "<div>\n",
       "<style scoped>\n",
       "    .dataframe tbody tr th:only-of-type {\n",
       "        vertical-align: middle;\n",
       "    }\n",
       "\n",
       "    .dataframe tbody tr th {\n",
       "        vertical-align: top;\n",
       "    }\n",
       "\n",
       "    .dataframe thead th {\n",
       "        text-align: right;\n",
       "    }\n",
       "</style>\n",
       "<table border=\"1\" class=\"dataframe\">\n",
       "  <thead>\n",
       "    <tr style=\"text-align: right;\">\n",
       "      <th></th>\n",
       "      <th>Unnamed: 0</th>\n",
       "      <th>cik</th>\n",
       "      <th>size</th>\n",
       "      <th>ni</th>\n",
       "      <th>zscore</th>\n",
       "      <th>leverage</th>\n",
       "      <th>prloss</th>\n",
       "      <th>chgdt</th>\n",
       "      <th>cfo</th>\n",
       "      <th>liquidity</th>\n",
       "      <th>...</th>\n",
       "      <th>2010</th>\n",
       "      <th>2011</th>\n",
       "      <th>2012</th>\n",
       "      <th>2013</th>\n",
       "      <th>2014</th>\n",
       "      <th>2015</th>\n",
       "      <th>2016</th>\n",
       "      <th>2017</th>\n",
       "      <th>2018</th>\n",
       "      <th>bankruptcy</th>\n",
       "    </tr>\n",
       "  </thead>\n",
       "  <tbody>\n",
       "    <tr>\n",
       "      <th>0</th>\n",
       "      <td>0</td>\n",
       "      <td>1923</td>\n",
       "      <td>4.633233</td>\n",
       "      <td>-0.457</td>\n",
       "      <td>-1.379207</td>\n",
       "      <td>0.782724</td>\n",
       "      <td>1</td>\n",
       "      <td>0.0</td>\n",
       "      <td>0.068627</td>\n",
       "      <td>0.070678</td>\n",
       "      <td>...</td>\n",
       "      <td>0</td>\n",
       "      <td>0</td>\n",
       "      <td>0</td>\n",
       "      <td>0</td>\n",
       "      <td>0</td>\n",
       "      <td>0</td>\n",
       "      <td>0</td>\n",
       "      <td>0</td>\n",
       "      <td>0</td>\n",
       "      <td>False</td>\n",
       "    </tr>\n",
       "    <tr>\n",
       "      <th>1</th>\n",
       "      <td>1</td>\n",
       "      <td>1961</td>\n",
       "      <td>0.674983</td>\n",
       "      <td>-8.920</td>\n",
       "      <td>22.164456</td>\n",
       "      <td>2.979633</td>\n",
       "      <td>1</td>\n",
       "      <td>0.0</td>\n",
       "      <td>-2.646130</td>\n",
       "      <td>0.019348</td>\n",
       "      <td>...</td>\n",
       "      <td>0</td>\n",
       "      <td>0</td>\n",
       "      <td>0</td>\n",
       "      <td>0</td>\n",
       "      <td>0</td>\n",
       "      <td>0</td>\n",
       "      <td>0</td>\n",
       "      <td>0</td>\n",
       "      <td>0</td>\n",
       "      <td>False</td>\n",
       "    </tr>\n",
       "    <tr>\n",
       "      <th>2</th>\n",
       "      <td>2</td>\n",
       "      <td>2062</td>\n",
       "      <td>4.720426</td>\n",
       "      <td>2.224</td>\n",
       "      <td>0.000000</td>\n",
       "      <td>0.665966</td>\n",
       "      <td>1</td>\n",
       "      <td>0.0</td>\n",
       "      <td>-0.072984</td>\n",
       "      <td>0.066363</td>\n",
       "      <td>...</td>\n",
       "      <td>0</td>\n",
       "      <td>0</td>\n",
       "      <td>0</td>\n",
       "      <td>0</td>\n",
       "      <td>0</td>\n",
       "      <td>0</td>\n",
       "      <td>0</td>\n",
       "      <td>0</td>\n",
       "      <td>0</td>\n",
       "      <td>False</td>\n",
       "    </tr>\n",
       "    <tr>\n",
       "      <th>3</th>\n",
       "      <td>3</td>\n",
       "      <td>2186</td>\n",
       "      <td>2.913546</td>\n",
       "      <td>-1.428</td>\n",
       "      <td>-1.775756</td>\n",
       "      <td>0.654761</td>\n",
       "      <td>1</td>\n",
       "      <td>0.0</td>\n",
       "      <td>-0.023179</td>\n",
       "      <td>0.011291</td>\n",
       "      <td>...</td>\n",
       "      <td>0</td>\n",
       "      <td>0</td>\n",
       "      <td>0</td>\n",
       "      <td>0</td>\n",
       "      <td>0</td>\n",
       "      <td>0</td>\n",
       "      <td>0</td>\n",
       "      <td>0</td>\n",
       "      <td>0</td>\n",
       "      <td>False</td>\n",
       "    </tr>\n",
       "    <tr>\n",
       "      <th>4</th>\n",
       "      <td>4</td>\n",
       "      <td>2491</td>\n",
       "      <td>5.861604</td>\n",
       "      <td>-15.035</td>\n",
       "      <td>1.420819</td>\n",
       "      <td>1.140723</td>\n",
       "      <td>1</td>\n",
       "      <td>0.0</td>\n",
       "      <td>-0.008423</td>\n",
       "      <td>0.091219</td>\n",
       "      <td>...</td>\n",
       "      <td>0</td>\n",
       "      <td>0</td>\n",
       "      <td>0</td>\n",
       "      <td>0</td>\n",
       "      <td>0</td>\n",
       "      <td>0</td>\n",
       "      <td>0</td>\n",
       "      <td>0</td>\n",
       "      <td>0</td>\n",
       "      <td>False</td>\n",
       "    </tr>\n",
       "  </tbody>\n",
       "</table>\n",
       "<p>5 rows × 41 columns</p>\n",
       "</div>"
      ],
      "text/plain": [
       "   Unnamed: 0   cik      size      ni     zscore  leverage  prloss  chgdt  \\\n",
       "0           0  1923  4.633233  -0.457  -1.379207  0.782724       1    0.0   \n",
       "1           1  1961  0.674983  -8.920  22.164456  2.979633       1    0.0   \n",
       "2           2  2062  4.720426   2.224   0.000000  0.665966       1    0.0   \n",
       "3           3  2186  2.913546  -1.428  -1.775756  0.654761       1    0.0   \n",
       "4           4  2491  5.861604 -15.035   1.420819  1.140723       1    0.0   \n",
       "\n",
       "        cfo  liquidity  ...  2010  2011  2012  2013  2014  2015  2016  2017  \\\n",
       "0  0.068627   0.070678  ...     0     0     0     0     0     0     0     0   \n",
       "1 -2.646130   0.019348  ...     0     0     0     0     0     0     0     0   \n",
       "2 -0.072984   0.066363  ...     0     0     0     0     0     0     0     0   \n",
       "3 -0.023179   0.011291  ...     0     0     0     0     0     0     0     0   \n",
       "4 -0.008423   0.091219  ...     0     0     0     0     0     0     0     0   \n",
       "\n",
       "   2018  bankruptcy  \n",
       "0     0       False  \n",
       "1     0       False  \n",
       "2     0       False  \n",
       "3     0       False  \n",
       "4     0       False  \n",
       "\n",
       "[5 rows x 41 columns]"
      ]
     },
     "execution_count": 3,
     "metadata": {},
     "output_type": "execute_result"
    }
   ],
   "source": [
    "data = pd.read_csv('D:/research-assistant/datasets/ml_dataset.csv')\n",
    "data.head()"
   ]
  },
  {
   "cell_type": "code",
   "execution_count": 19,
   "metadata": {},
   "outputs": [],
   "source": [
    "def preprocessing (x):\n",
    "    x = x.drop(columns = ['Unnamed: 0','cik'])\n",
    "    shape = x.shape[1] - 1\n",
    "    \n",
    "    # Normalizing the data\n",
    "    sc = StandardScaler()\n",
    "    x.iloc[:,range(0,shape)] = sc.fit_transform(x.iloc[:,range(0,shape)])\n",
    "\n",
    "    \n",
    "    # splitting the dataset\n",
    "    X = x.iloc[:,range(0,shape)]\n",
    "    Y = x.iloc[:,shape]\n",
    "    x_train,x_test, y_train,y_test = train_test_split( x.iloc[:,range(0,shape)], x.iloc[:,shape], random_state = 123, test_size = 0.30 )\n",
    "    #print(x_train.head())\n",
    "       \n",
    "    #Training dataset\n",
    "#     y_train = pd.DataFrame(y_train)\n",
    "#     training = x_train.join(y_train)\n",
    "    \n",
    "#     #splitting the data \n",
    "#     data_majority = training[training['is_successful']==0]\n",
    "#     data_minority = training[training['is_successful']==1]\n",
    "    \n",
    "#     #upsampling dataset\n",
    "#     count = data_majority[\"is_successful\"].value_counts()\n",
    "#     count = count[0]\n",
    "    \n",
    "#     #upsample minority class\n",
    "#     data_minority_upsampled = resample(data_minority,\n",
    "#                                   replace = True,\n",
    "#                                   n_samples = count,\n",
    "#                                   random_state = 123)\n",
    "#     df_upsampled = pd.concat([data_majority, data_minority_upsampled])\n",
    "#     #print(df_upsampled.head())\n",
    "#     y_upsampledtrain = df_upsampled[\"is_successful\"]\n",
    "#     x_upsampledtrain = df_upsampled.drop(columns = [\"is_successful\"], axis=1)\n",
    "#     y_upsampledtrain = pd.DataFrame(y_upsampledtrain)\n",
    "    \n",
    "    print('Preprocessing Complete')\n",
    "    return(X, x_train, x_test, Y, y_train, y_test )"
   ]
  },
  {
   "cell_type": "code",
   "execution_count": 20,
   "metadata": {},
   "outputs": [
    {
     "name": "stdout",
     "output_type": "stream",
     "text": [
      "Preprocessing Complete\n"
     ]
    }
   ],
   "source": [
    "X, x_train, x_test, Y, y_train, y_test = preprocessing(data)"
   ]
  },
  {
   "cell_type": "code",
   "execution_count": 21,
   "metadata": {},
   "outputs": [
    {
     "name": "stdout",
     "output_type": "stream",
     "text": [
      "0.9746102449888642\n",
      "              precision    recall  f1-score   support\n",
      "\n",
      "       False       0.97      1.00      0.99      2006\n",
      "        True       0.99      0.77      0.87       239\n",
      "\n",
      "    accuracy                           0.97      2245\n",
      "   macro avg       0.98      0.88      0.93      2245\n",
      "weighted avg       0.98      0.97      0.97      2245\n",
      "\n"
     ]
    },
    {
     "name": "stderr",
     "output_type": "stream",
     "text": [
      "C:\\Users\\jayan\\Anaconda3\\envs\\accounting\\lib\\site-packages\\sklearn\\base.py:197: FutureWarning: From version 0.24, get_params will raise an AttributeError if a parameter cannot be retrieved as an instance attribute. Previously it would return None.\n",
      "  FutureWarning)\n"
     ]
    },
    {
     "data": {
      "image/png": "[encoded data removed]",
      "text/plain": [
       "<Figure size 432x288 with 1 Axes>"
      ]
     },
     "metadata": {
      "needs_background": "light"
     },
     "output_type": "display_data"
    },
    {
     "data": {
      "text/plain": [
       "0.9740721192831294"
      ]
     },
     "execution_count": 21,
     "metadata": {},
     "output_type": "execute_result"
    }
   ],
   "source": [
    "## Logistic regression\n",
    "logmodel = LogisticRegression(random_state=123)\n",
    "logmodel.fit(x_train, y_train)\n",
    "y_pred = logmodel.predict(x_test)\n",
    "print(accuracy_score(y_test, y_pred))\n",
    "print(classification_report(y_test,y_pred))\n",
    "viz = ConfusionMatrix(logmodel)\n",
    "viz.fit(x_train, y_train)\n",
    "viz.score(x_test, y_test)\n",
    "viz.show()\n",
    "scores = cross_val_score(logmodel, X, Y, cv=5)\n",
    "scores.sum()/5"
   ]
  },
  {
   "cell_type": "code",
   "execution_count": 22,
   "metadata": {},
   "outputs": [
    {
     "name": "stdout",
     "output_type": "stream",
     "text": [
      "0.9804008908685968\n",
      "              precision    recall  f1-score   support\n",
      "\n",
      "       False       0.98      1.00      0.99      2006\n",
      "        True       1.00      0.82      0.90       239\n",
      "\n",
      "    accuracy                           0.98      2245\n",
      "   macro avg       0.99      0.91      0.94      2245\n",
      "weighted avg       0.98      0.98      0.98      2245\n",
      "\n"
     ]
    },
    {
     "name": "stderr",
     "output_type": "stream",
     "text": [
      "C:\\Users\\jayan\\Anaconda3\\envs\\accounting\\lib\\site-packages\\sklearn\\base.py:197: FutureWarning: From version 0.24, get_params will raise an AttributeError if a parameter cannot be retrieved as an instance attribute. Previously it would return None.\n",
      "  FutureWarning)\n"
     ]
    },
    {
     "data": {
      "image/png": "[encoded data removed]",
      "text/plain": [
       "<Figure size 432x288 with 1 Axes>"
      ]
     },
     "metadata": {
      "needs_background": "light"
     },
     "output_type": "display_data"
    },
    {
     "data": {
      "text/plain": [
       "0.8248732759636921"
      ]
     },
     "execution_count": 22,
     "metadata": {},
     "output_type": "execute_result"
    }
   ],
   "source": [
    "# naive bayes classifier\n",
    "nb = GaussianNB()\n",
    "nb.fit(x_train, y_train)\n",
    "y_pred = nb.predict(x_test)\n",
    "print(accuracy_score(y_test, y_pred))\n",
    "print(classification_report(y_test,y_pred))\n",
    "viz = ConfusionMatrix(nb)\n",
    "viz.fit(x_train, y_train)\n",
    "viz.score(x_test, y_test)\n",
    "viz.show()\n",
    "scores = cross_val_score(nb, X, Y, cv=5)\n",
    "scores.sum()/5"
   ]
  },
  {
   "cell_type": "code",
   "execution_count": 23,
   "metadata": {},
   "outputs": [
    {
     "name": "stdout",
     "output_type": "stream",
     "text": [
      "0.9795100222717149\n",
      "              precision    recall  f1-score   support\n",
      "\n",
      "       False       0.98      1.00      0.99      2006\n",
      "        True       0.99      0.81      0.89       239\n",
      "\n",
      "    accuracy                           0.98      2245\n",
      "   macro avg       0.99      0.91      0.94      2245\n",
      "weighted avg       0.98      0.98      0.98      2245\n",
      "\n"
     ]
    },
    {
     "name": "stderr",
     "output_type": "stream",
     "text": [
      "C:\\Users\\jayan\\Anaconda3\\envs\\accounting\\lib\\site-packages\\sklearn\\base.py:197: FutureWarning: From version 0.24, get_params will raise an AttributeError if a parameter cannot be retrieved as an instance attribute. Previously it would return None.\n",
      "  FutureWarning)\n"
     ]
    },
    {
     "data": {
      "image/png": "[encoded data removed]",
      "text/plain": [
       "<Figure size 432x288 with 1 Axes>"
      ]
     },
     "metadata": {
      "needs_background": "light"
     },
     "output_type": "display_data"
    },
    {
     "data": {
      "text/plain": [
       "0.9782157898685071"
      ]
     },
     "execution_count": 23,
     "metadata": {},
     "output_type": "execute_result"
    }
   ],
   "source": [
    "rf_model = RandomForestClassifier(random_state = 123)\n",
    "rf_model.fit(x_train, y_train)\n",
    "y_pred = rf_model.predict(x_test)\n",
    "print(accuracy_score(y_test, y_pred))\n",
    "print(classification_report(y_test,y_pred))\n",
    "viz = ConfusionMatrix(rf_model)\n",
    "viz.fit(x_train, y_train)\n",
    "viz.score(x_test, y_test)\n",
    "viz.show()\n",
    "scores = cross_val_score(rf_model, X, Y, cv=5)\n",
    "scores.sum()/5"
   ]
  },
  {
   "cell_type": "code",
   "execution_count": null,
   "metadata": {},
   "outputs": [],
   "source": []
  }
 ],
 "metadata": {
  "kernelspec": {
   "display_name": "Python 3",
   "language": "python",
   "name": "python3"
  },
  "language_info": {
   "codemirror_mode": {
    "name": "ipython",
    "version": 3
   },
   "file_extension": ".py",
   "mimetype": "text/x-python",
   "name": "python",
   "nbconvert_exporter": "python",
   "pygments_lexer": "ipython3",
   "version": "3.7.5"
  }
 },
 "nbformat": 4,
 "nbformat_minor": 4
}
