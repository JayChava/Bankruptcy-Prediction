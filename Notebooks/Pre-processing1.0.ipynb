{
 "cells": [
  {
   "cell_type": "code",
   "execution_count": 2,
   "metadata": {},
   "outputs": [],
   "source": [
    "import numpy as np\n",
    "import pandas as pd\n",
    "from tqdm import tqdm\n",
    "from datetime import datetime\n",
    "import math\n",
    "import warnings\n",
    "\n",
    "warnings.filterwarnings(\"ignore\")\n",
    "%matplotlib inline\n",
    "#from datetime import date"
   ]
  },
  {
   "cell_type": "code",
   "execution_count": 4,
   "metadata": {},
   "outputs": [],
   "source": [
    "#BANKRUPTCY DATASET\n",
    "bankruptcy = pd.read_csv(\"D:/research-assistant/datasets/bankruptcy.csv\")\n",
    "bankruptcy.columns = bankruptcy.columns.str.lower() # lower casing all values\n",
    "bankruptcy.rename(columns={'company_fkey':'cik'},inplace=True)   # renaming column for similarity\n",
    "bankruptcy = bankruptcy[['id', 'cik','bank_begin_date']] # only considering these columns in data"
   ]
  },
  {
   "cell_type": "code",
   "execution_count": 5,
   "metadata": {},
   "outputs": [],
   "source": [
    "#COMPANY DATASET\n",
    "company = pd.read_csv('D:/research-assistant/datasets/comp.csv')\n",
    "company.columns = company.columns.str.lower() # lower casing all values\n",
    "# only considering these columns in data\n",
    "company = company[['cik','datadate','year','size','ni','zscore','leverage','prloss','chgdt','cfo','liquidity','mkbk','litigate','reportlag','priorgc','newequity','newdebt','dependence','indexpert','tenure','big4']]"
   ]
  },
  {
   "cell_type": "code",
   "execution_count": 6,
   "metadata": {},
   "outputs": [
    {
     "name": "stdout",
     "output_type": "stream",
     "text": [
      "bankruptcy dataset size: (2746, 3)\n",
      "company dataset size: (131890, 21)\n"
     ]
    }
   ],
   "source": [
    "# checking shapes oof data\n",
    "print(str('bankruptcy dataset size:'), bankruptcy.shape)\n",
    "print(str('company dataset size:'), company.shape)"
   ]
  },
  {
   "cell_type": "code",
   "execution_count": 7,
   "metadata": {},
   "outputs": [
    {
     "name": "stderr",
     "output_type": "stream",
     "text": [
      "100%|████████████████████████████████████████████████████████████████████████████| 2746/2746 [00:00<00:00, 3293.48it/s]\n"
     ]
    }
   ],
   "source": [
    "# converting the Bank date to datetime format for easy preprocessing\n",
    "for i in tqdm(range(bankruptcy.shape[0])):\n",
    "    obj = bankruptcy['bank_begin_date'].iloc[i]\n",
    "    date_time_obj = datetime.strptime(obj, '%m/%d/%Y')\n",
    "    bankruptcy['bank_begin_date'].iloc[i] = date_time_obj                                       "
   ]
  },
  {
   "cell_type": "code",
   "execution_count": 8,
   "metadata": {},
   "outputs": [
    {
     "name": "stderr",
     "output_type": "stream",
     "text": [
      "100%|█████████████████████████████████████████████████████████████████████████| 131890/131890 [10:31<00:00, 208.85it/s]\n"
     ]
    }
   ],
   "source": [
    "# converting the Data date to datetime format for easy preprocessing\n",
    "for i in tqdm(range(company.shape[0])):\n",
    "    obj = company['datadate'].iloc[i]\n",
    "    date_time_obj = datetime.strptime(obj, '%m/%d/%Y')\n",
    "    company['datadate'].iloc[i] = date_time_obj                                       "
   ]
  },
  {
   "cell_type": "code",
   "execution_count": 11,
   "metadata": {},
   "outputs": [
    {
     "name": "stderr",
     "output_type": "stream",
     "text": [
      "100%|█████████████████████████████████████████████████████████████████████████████| 2746/2746 [00:03<00:00, 733.10it/s]\n"
     ]
    }
   ],
   "source": [
    "# creating a list of the ID's of rows which contain are essentially data on a company going bankrupt the 2nd time\n",
    "unrequired = []\n",
    "for i in tqdm(range(bankruptcy.shape[0])):\n",
    "    key1, date1 = bankruptcy[['cik','bank_begin_date']].iloc[i]\n",
    "    #print(str('K1')+' '+ str(key1))\n",
    "    j = i+1\n",
    "    try:\n",
    "        key2, date2 = bankruptcy[['cik','bank_begin_date']].iloc[j]\n",
    "        #print(str('K2')+' ' + str(key2))\n",
    "        if (key1 == key2):\n",
    "            if ( date2 > date1):\n",
    "            #print(str('id')+ ' ' + str(bankruptcy['id'].iloc[j]))\n",
    "                unrequired.append(bankruptcy['id'].iloc[j])\n",
    "            else:\n",
    "                None\n",
    "            #print('----')\n",
    "        else:\n",
    "            None\n",
    "            #print('----')\n",
    "   \n",
    "    except:\n",
    "        None\n",
    "    "
   ]
  },
  {
   "cell_type": "code",
   "execution_count": 12,
   "metadata": {},
   "outputs": [
    {
     "data": {
      "text/plain": [
       "53"
      ]
     },
     "execution_count": 12,
     "metadata": {},
     "output_type": "execute_result"
    }
   ],
   "source": [
    "# number of companies which have gone bankrupt more than once\n",
    "unrequired = pd.DataFrame(unrequired, columns = ['number'])\n",
    "len(unrequired)"
   ]
  },
  {
   "cell_type": "code",
   "execution_count": 13,
   "metadata": {},
   "outputs": [
    {
     "data": {
      "text/plain": [
       "53"
      ]
     },
     "execution_count": 13,
     "metadata": {},
     "output_type": "execute_result"
    }
   ],
   "source": [
    "## rechecking above classification\n",
    "bankruptcy['que'] = bankruptcy['id'].isin(unrequired['number'])\n",
    "bankruptcy.que.sum()"
   ]
  },
  {
   "cell_type": "code",
   "execution_count": 14,
   "metadata": {},
   "outputs": [
    {
     "data": {
      "text/plain": [
       "(2691, 4)"
      ]
     },
     "execution_count": 14,
     "metadata": {},
     "output_type": "execute_result"
    }
   ],
   "source": [
    "# updating bankruptcy dataset all taking frst banruptcy values\n",
    "bankruptcy_main = bankruptcy[bankruptcy.que == False]\n",
    "bankruptcy_main = bankruptcy_main.drop_duplicates(subset = ['cik','bank_begin_date'], keep = 'first') ## dropping duplicates\n",
    "bankruptcy_main.shape"
   ]
  },
  {
   "cell_type": "code",
   "execution_count": 15,
   "metadata": {},
   "outputs": [
    {
     "data": {
      "text/plain": [
       "9479"
      ]
     },
     "execution_count": 15,
     "metadata": {},
     "output_type": "execute_result"
    }
   ],
   "source": [
    "# Checking number of companies in compnay dataset in bankruptcy dataset\n",
    "company['bankruptcy'] = company['cik'].isin(bankruptcy_main['cik'])\n",
    "company['bankruptcy'] = company['bankruptcy'].fillna(0)\n",
    "company = company.set_index('cik')\n",
    "company['bankruptcy'].sum()"
   ]
  },
  {
   "cell_type": "code",
   "execution_count": 16,
   "metadata": {},
   "outputs": [],
   "source": [
    "# Merging datasets\n",
    "combo = pd.merge(company,\n",
    "                 bankruptcy_main[['cik', 'bank_begin_date']],\n",
    "                 on='cik', \n",
    "                 how='outer', \n",
    "                 indicator=True)"
   ]
  },
  {
   "cell_type": "code",
   "execution_count": 17,
   "metadata": {},
   "outputs": [
    {
     "data": {
      "text/plain": [
       "Index(['cik', 'datadate', 'year', 'size', 'ni', 'zscore', 'leverage', 'prloss',\n",
       "       'chgdt', 'cfo', 'liquidity', 'mkbk', 'litigate', 'reportlag', 'priorgc',\n",
       "       'newequity', 'newdebt', 'dependence', 'indexpert', 'tenure', 'big4',\n",
       "       'bankruptcy', 'bank_begin_date', '_merge'],\n",
       "      dtype='object')"
      ]
     },
     "execution_count": 17,
     "metadata": {},
     "output_type": "execute_result"
    }
   ],
   "source": [
    "combo.columns"
   ]
  },
  {
   "cell_type": "code",
   "execution_count": 18,
   "metadata": {},
   "outputs": [],
   "source": [
    "# removing redundant data\n",
    "combo= combo[combo._merge != 'right_only']"
   ]
  },
  {
   "cell_type": "code",
   "execution_count": 19,
   "metadata": {},
   "outputs": [
    {
     "data": {
      "text/plain": [
       "(131890, 24)"
      ]
     },
     "execution_count": 19,
     "metadata": {},
     "output_type": "execute_result"
    }
   ],
   "source": [
    "combo.shape # checking shape"
   ]
  },
  {
   "cell_type": "code",
   "execution_count": 20,
   "metadata": {},
   "outputs": [
    {
     "data": {
      "text/plain": [
       "16726"
      ]
     },
     "execution_count": 20,
     "metadata": {},
     "output_type": "execute_result"
    }
   ],
   "source": [
    "combo.cik.nunique() # checking unique companies"
   ]
  },
  {
   "cell_type": "code",
   "execution_count": 21,
   "metadata": {},
   "outputs": [
    {
     "data": {
      "text/plain": [
       "9479"
      ]
     },
     "execution_count": 21,
     "metadata": {},
     "output_type": "execute_result"
    }
   ],
   "source": [
    "combo.bankruptcy.sum() # checking bankrupt companies"
   ]
  },
  {
   "cell_type": "code",
   "execution_count": 22,
   "metadata": {},
   "outputs": [],
   "source": [
    "# converting date into required format\n",
    "combo['datadate'] = pd.to_datetime(combo['datadate'])\n",
    "combo['bank_begin_date'] = pd.to_datetime(combo['bank_begin_date'], errors='coerce')"
   ]
  },
  {
   "cell_type": "code",
   "execution_count": 23,
   "metadata": {},
   "outputs": [
    {
     "name": "stderr",
     "output_type": "stream",
     "text": [
      "100%|███████████████████████████████████████████████████████████████████████| 131890/131890 [00:03<00:00, 35760.38it/s]\n"
     ]
    }
   ],
   "source": [
    "# Calculating difference in date \n",
    "diff=[]\n",
    "for i in tqdm(range(combo.shape[0])):\n",
    "    time = combo.bank_begin_date.iloc[i] - combo.datadate.iloc[i]\n",
    "    diff.append(time.days) \n"
   ]
  },
  {
   "cell_type": "code",
   "execution_count": 24,
   "metadata": {},
   "outputs": [],
   "source": [
    "# removing nan values in diff\n",
    "diff = [0 if math.isnan(x) else x for x in diff]"
   ]
  },
  {
   "cell_type": "code",
   "execution_count": 25,
   "metadata": {},
   "outputs": [
    {
     "data": {
      "text/plain": [
       " 0       122414\n",
       " 457         11\n",
       " 1215        11\n",
       " 1187        10\n",
       " 850         10\n",
       "          ...  \n",
       "-2999         1\n",
       "-4918         1\n",
       " 2633         1\n",
       " 584          1\n",
       "-2495         1\n",
       "Name: datadiff, Length: 5084, dtype: int64"
      ]
     },
     "execution_count": 25,
     "metadata": {},
     "output_type": "execute_result"
    }
   ],
   "source": [
    "# Appending column diff \n",
    "combo['datadiff'] = diff\n",
    "#merged['datadiff'].fillna(0, inplace = True)\n",
    "combo['datadiff'].value_counts()"
   ]
  },
  {
   "cell_type": "code",
   "execution_count": 26,
   "metadata": {},
   "outputs": [
    {
     "name": "stderr",
     "output_type": "stream",
     "text": [
      "100%|███████████████████████████████████████████████████████████████████████| 131890/131890 [00:01<00:00, 73821.25it/s]\n"
     ]
    }
   ],
   "source": [
    "# only condisering one year before bankruptcy data\n",
    "bank_list =[]\n",
    "for i in tqdm(range(combo.shape[0])):\n",
    "    x = combo.datadiff.iloc[i]\n",
    "    #print(x)\n",
    "    if(x == 0):\n",
    "        bank_list.append(2)\n",
    "    else:\n",
    "        x = combo.datadiff.iloc[i]\n",
    "        if x < 366 and x >0:\n",
    "            bank_list.append(1)\n",
    "        else:\n",
    "            bank_list.append(0)"
   ]
  },
  {
   "cell_type": "code",
   "execution_count": 27,
   "metadata": {},
   "outputs": [
    {
     "data": {
      "text/plain": [
       "2    122414\n",
       "0      8614\n",
       "1       862\n",
       "Name: type, dtype: int64"
      ]
     },
     "execution_count": 27,
     "metadata": {},
     "output_type": "execute_result"
    }
   ],
   "source": [
    "bank_list = pd.DataFrame(bank_list, columns =['type'])\n",
    "bank_list.type.value_counts()"
   ]
  },
  {
   "cell_type": "code",
   "execution_count": 28,
   "metadata": {},
   "outputs": [],
   "source": [
    "# applying above requirement\n",
    "combo['bank_list'] = bank_list"
   ]
  },
  {
   "cell_type": "code",
   "execution_count": 29,
   "metadata": {},
   "outputs": [],
   "source": [
    "# creating new updated dataset\n",
    "combo_new = combo[combo.bank_list != 0]"
   ]
  },
  {
   "cell_type": "code",
   "execution_count": 30,
   "metadata": {},
   "outputs": [
    {
     "data": {
      "text/plain": [
       "(123276, 26)"
      ]
     },
     "execution_count": 30,
     "metadata": {},
     "output_type": "execute_result"
    }
   ],
   "source": [
    "combo_new.shape"
   ]
  },
  {
   "cell_type": "code",
   "execution_count": 31,
   "metadata": {},
   "outputs": [
    {
     "data": {
      "text/plain": [
       "16012"
      ]
     },
     "execution_count": 31,
     "metadata": {},
     "output_type": "execute_result"
    }
   ],
   "source": [
    "combo_new.cik.nunique()"
   ]
  },
  {
   "cell_type": "code",
   "execution_count": 32,
   "metadata": {},
   "outputs": [
    {
     "data": {
      "text/plain": [
       "2    122414\n",
       "1       862\n",
       "Name: bank_list, dtype: int64"
      ]
     },
     "execution_count": 32,
     "metadata": {},
     "output_type": "execute_result"
    }
   ],
   "source": [
    "combo_new.bank_list.value_counts()"
   ]
  },
  {
   "cell_type": "code",
   "execution_count": 33,
   "metadata": {},
   "outputs": [],
   "source": [
    "combo_new = combo_new.drop(columns = ['_merge'])"
   ]
  },
  {
   "cell_type": "code",
   "execution_count": 34,
   "metadata": {},
   "outputs": [
    {
     "data": {
      "text/plain": [
       "Index(['cik', 'datadate', 'year', 'size', 'ni', 'zscore', 'leverage', 'prloss',\n",
       "       'chgdt', 'cfo', 'liquidity', 'mkbk', 'litigate', 'reportlag', 'priorgc',\n",
       "       'newequity', 'newdebt', 'dependence', 'indexpert', 'tenure', 'big4',\n",
       "       'bankruptcy', 'bank_begin_date', 'datadiff', 'bank_list'],\n",
       "      dtype='object')"
      ]
     },
     "execution_count": 34,
     "metadata": {},
     "output_type": "execute_result"
    }
   ],
   "source": [
    "combo_new.columns"
   ]
  },
  {
   "cell_type": "code",
   "execution_count": 35,
   "metadata": {},
   "outputs": [],
   "source": [
    "combo_new = combo_new.sort_values(['cik', 'datadate'], ascending=[True, True])"
   ]
  },
  {
   "cell_type": "code",
   "execution_count": 36,
   "metadata": {},
   "outputs": [],
   "source": [
    "#dropping duplicates\n",
    "combo_newest = combo_new.drop_duplicates( subset = ['cik'], keep = 'first')"
   ]
  },
  {
   "cell_type": "code",
   "execution_count": 37,
   "metadata": {},
   "outputs": [
    {
     "data": {
      "text/plain": [
       "(16012, 25)"
      ]
     },
     "execution_count": 37,
     "metadata": {},
     "output_type": "execute_result"
    }
   ],
   "source": [
    "combo_newest.shape"
   ]
  },
  {
   "cell_type": "code",
   "execution_count": 38,
   "metadata": {},
   "outputs": [],
   "source": [
    "# updating new dataset\n",
    "combo1 = combo_new[combo_new.bank_list == 1]"
   ]
  },
  {
   "cell_type": "code",
   "execution_count": 39,
   "metadata": {},
   "outputs": [
    {
     "data": {
      "text/plain": [
       "1052163    2\n",
       "1494448    2\n",
       "790526     1\n",
       "1002125    1\n",
       "744106     1\n",
       "          ..\n",
       "1078577    1\n",
       "889237     1\n",
       "109870     1\n",
       "1097002    1\n",
       "831489     1\n",
       "Name: cik, Length: 860, dtype: int64"
      ]
     },
     "execution_count": 39,
     "metadata": {},
     "output_type": "execute_result"
    }
   ],
   "source": [
    "combo1.cik.value_counts()"
   ]
  },
  {
   "cell_type": "code",
   "execution_count": 40,
   "metadata": {},
   "outputs": [
    {
     "name": "stderr",
     "output_type": "stream",
     "text": [
      "100%|█████████████████████████████████████████████████████████████████████████| 16012/16012 [00:00<00:00, 36069.73it/s]\n"
     ]
    }
   ],
   "source": [
    "# removing noise if cfo < 0 & ni < 0\n",
    "noise = []\n",
    "for i in tqdm(range(combo_newest.shape[0])):\n",
    "    cfo = combo_newest.cfo.iloc[i]\n",
    "    ni = combo_newest.ni.iloc[i]\n",
    "    if(cfo<0 or ni<0):\n",
    "        None\n",
    "    else:\n",
    "        noise.append(combo_newest.cik.iloc[i])"
   ]
  },
  {
   "cell_type": "code",
   "execution_count": 41,
   "metadata": {},
   "outputs": [
    {
     "data": {
      "text/plain": [
       "8530"
      ]
     },
     "execution_count": 41,
     "metadata": {},
     "output_type": "execute_result"
    }
   ],
   "source": [
    "len(noise)"
   ]
  },
  {
   "cell_type": "code",
   "execution_count": 42,
   "metadata": {},
   "outputs": [
    {
     "data": {
      "text/plain": [
       "(16012, 25)"
      ]
     },
     "execution_count": 42,
     "metadata": {},
     "output_type": "execute_result"
    }
   ],
   "source": [
    "combo_newest.shape"
   ]
  },
  {
   "cell_type": "code",
   "execution_count": 43,
   "metadata": {},
   "outputs": [
    {
     "data": {
      "text/plain": [
       "860"
      ]
     },
     "execution_count": 43,
     "metadata": {},
     "output_type": "execute_result"
    }
   ],
   "source": [
    "combo_newest.bankruptcy.sum()"
   ]
  },
  {
   "cell_type": "code",
   "execution_count": 44,
   "metadata": {},
   "outputs": [],
   "source": [
    "final = combo_newest.drop(combo_newest[combo_newest.cik.isin(noise)].index.tolist())"
   ]
  },
  {
   "cell_type": "code",
   "execution_count": 45,
   "metadata": {},
   "outputs": [
    {
     "data": {
      "text/plain": [
       "Index(['cik', 'datadate', 'year', 'size', 'ni', 'zscore', 'leverage', 'prloss',\n",
       "       'chgdt', 'cfo', 'liquidity', 'mkbk', 'litigate', 'reportlag', 'priorgc',\n",
       "       'newequity', 'newdebt', 'dependence', 'indexpert', 'tenure', 'big4',\n",
       "       'bankruptcy', 'bank_begin_date', 'datadiff', 'bank_list'],\n",
       "      dtype='object')"
      ]
     },
     "execution_count": 45,
     "metadata": {},
     "output_type": "execute_result"
    }
   ],
   "source": [
    "final.columns"
   ]
  },
  {
   "cell_type": "code",
   "execution_count": 46,
   "metadata": {},
   "outputs": [
    {
     "data": {
      "text/plain": [
       "10.892809409248864"
      ]
     },
     "execution_count": 46,
     "metadata": {},
     "output_type": "execute_result"
    }
   ],
   "source": [
    "final_data = final.drop(columns =['datadate','datadiff','bank_begin_date','bank_list'])\n",
    "final_data = final_data.fillna(0)\n",
    "final.bankruptcy.sum()/final.shape[0] * 100"
   ]
  },
  {
   "cell_type": "code",
   "execution_count": 55,
   "metadata": {},
   "outputs": [],
   "source": [
    "final_data.to_csv('D:/research-assistant/datasets/final.csv')"
   ]
  }
 ],
 "metadata": {
  "kernelspec": {
   "display_name": "Python 3",
   "language": "python",
   "name": "python3"
  },
  "language_info": {
   "codemirror_mode": {
    "name": "ipython",
    "version": 3
   },
   "file_extension": ".py",
   "mimetype": "text/x-python",
   "name": "python",
   "nbconvert_exporter": "python",
   "pygments_lexer": "ipython3",
   "version": "3.7.5"
  }
 },
 "nbformat": 4,
 "nbformat_minor": 4
}
