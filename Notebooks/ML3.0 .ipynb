{
 "cells": [
  {
   "cell_type": "markdown",
   "metadata": {},
   "source": [
    "# EXPERIMENT 3\n",
    "\n",
    "Using 3 years rolling training dataset. Thus, if we have 20 years data, ML will be applied 17 times.\n",
    "\n",
    "For 2000 through 2002, since there are no training set, we will use those three years as training dataset only.\n",
    "\n",
    "17 times ML will be following.\n",
    "\n",
    " \n",
    "\n",
    "1: training dataset is 2000 through 2002, and the testing set is 2003.\n",
    "\n",
    "2: training dataset is 2001 through 2003, and the testing set is 2004.\n",
    "\n",
    "3: training dataset is 2002 through 2004, and the testing set is 2005.\n",
    "\n",
    "4: training dataset is 2003 through 2005, and the testing set is 2006.\n",
    "\n",
    "5: training dataset is 2004 through 2006, and the testing set is 2007.\n",
    "\n",
    "….. so on.\n",
    "\n",
    " \n",
    "\n",
    "The motivation of the 1st and 2nd method that I suggested is to make the ML prediction more practical and realistic.\n",
    "\n",
    " \n",
    "\n",
    "When we want to compare machine’s judgment, we don’t take a restrospective look. For instance, in 2013, when human predicts something, human’s learning is based on past couple of years (future years cannot be applied). We must apply the same restriction to ML."
   ]
  },
  {
   "cell_type": "code",
   "execution_count": 47,
   "metadata": {},
   "outputs": [],
   "source": [
    "import numpy as np\n",
    "import pandas as pd\n",
    "from tqdm import tqdm\n",
    "\n",
    "import matplotlib.pyplot as plt\n",
    "import seaborn as sns\n",
    "import pandas as pd\n",
    "from sklearn.ensemble import RandomForestClassifier\n",
    "from sklearn import svm\n",
    "from sklearn.metrics import roc_curve, auc\n",
    "from sklearn.linear_model import LogisticRegression\n",
    "from sklearn.model_selection import train_test_split\n",
    "from sklearn.metrics import classification_report\n",
    "from sklearn.naive_bayes import GaussianNB\n",
    "from sklearn.tree import DecisionTreeClassifier\n",
    "from sklearn.metrics import accuracy_score\n",
    "from sklearn.preprocessing import StandardScaler\n",
    "from sklearn.metrics import f1_score\n",
    "from yellowbrick.classifier import ConfusionMatrix\n",
    "from sklearn.model_selection import cross_val_score\n",
    "from sklearn.utils import resample\n",
    "from sklearn.metrics import accuracy_score\n",
    "from sklearn.neighbors import KNeighborsClassifier\n",
    "from sklearn.svm import SVC\n",
    "from sklearn.tree import DecisionTreeClassifier\n",
    "from sklearn.model_selection import GridSearchCV\n",
    "from xgboost import XGBClassifier\n",
    "import xgboost as xgb\n",
    "import warnings \n",
    "\n",
    "warnings.filterwarnings(\"ignore\")\n",
    "%matplotlib inline\n",
    "\n",
    "%matplotlib inline"
   ]
  },
  {
   "cell_type": "code",
   "execution_count": 48,
   "metadata": {},
   "outputs": [
    {
     "data": {
      "text/html": [
       "<div>\n",
       "<style scoped>\n",
       "    .dataframe tbody tr th:only-of-type {\n",
       "        vertical-align: middle;\n",
       "    }\n",
       "\n",
       "    .dataframe tbody tr th {\n",
       "        vertical-align: top;\n",
       "    }\n",
       "\n",
       "    .dataframe thead th {\n",
       "        text-align: right;\n",
       "    }\n",
       "</style>\n",
       "<table border=\"1\" class=\"dataframe\">\n",
       "  <thead>\n",
       "    <tr style=\"text-align: right;\">\n",
       "      <th></th>\n",
       "      <th>Unnamed: 0</th>\n",
       "      <th>cik</th>\n",
       "      <th>year</th>\n",
       "      <th>size</th>\n",
       "      <th>ni</th>\n",
       "      <th>zscore</th>\n",
       "      <th>leverage</th>\n",
       "      <th>prloss</th>\n",
       "      <th>chgdt</th>\n",
       "      <th>cfo</th>\n",
       "      <th>...</th>\n",
       "      <th>litigate</th>\n",
       "      <th>reportlag</th>\n",
       "      <th>priorgc</th>\n",
       "      <th>newequity</th>\n",
       "      <th>newdebt</th>\n",
       "      <th>dependence</th>\n",
       "      <th>indexpert</th>\n",
       "      <th>tenure</th>\n",
       "      <th>big4</th>\n",
       "      <th>bankruptcy</th>\n",
       "    </tr>\n",
       "  </thead>\n",
       "  <tbody>\n",
       "    <tr>\n",
       "      <th>0</th>\n",
       "      <td>39</td>\n",
       "      <td>1923</td>\n",
       "      <td>1999</td>\n",
       "      <td>4.633233</td>\n",
       "      <td>-0.457</td>\n",
       "      <td>-1.379207</td>\n",
       "      <td>0.782724</td>\n",
       "      <td>1</td>\n",
       "      <td>0.0</td>\n",
       "      <td>0.068627</td>\n",
       "      <td>...</td>\n",
       "      <td>0</td>\n",
       "      <td>88</td>\n",
       "      <td>0</td>\n",
       "      <td>0.029568</td>\n",
       "      <td>0.0</td>\n",
       "      <td>0.0</td>\n",
       "      <td>0</td>\n",
       "      <td>0.693147</td>\n",
       "      <td>1</td>\n",
       "      <td>False</td>\n",
       "    </tr>\n",
       "    <tr>\n",
       "      <th>266</th>\n",
       "      <td>62222</td>\n",
       "      <td>948070</td>\n",
       "      <td>1999</td>\n",
       "      <td>1.291709</td>\n",
       "      <td>0.074</td>\n",
       "      <td>-4.436830</td>\n",
       "      <td>0.296785</td>\n",
       "      <td>1</td>\n",
       "      <td>0.0</td>\n",
       "      <td>-0.017862</td>\n",
       "      <td>...</td>\n",
       "      <td>0</td>\n",
       "      <td>123</td>\n",
       "      <td>0</td>\n",
       "      <td>0.825776</td>\n",
       "      <td>0.0</td>\n",
       "      <td>0.0</td>\n",
       "      <td>0</td>\n",
       "      <td>0.693147</td>\n",
       "      <td>0</td>\n",
       "      <td>False</td>\n",
       "    </tr>\n",
       "    <tr>\n",
       "      <th>265</th>\n",
       "      <td>62215</td>\n",
       "      <td>948069</td>\n",
       "      <td>1999</td>\n",
       "      <td>4.775310</td>\n",
       "      <td>10.629</td>\n",
       "      <td>-4.376339</td>\n",
       "      <td>0.250027</td>\n",
       "      <td>1</td>\n",
       "      <td>0.0</td>\n",
       "      <td>-0.065780</td>\n",
       "      <td>...</td>\n",
       "      <td>0</td>\n",
       "      <td>92</td>\n",
       "      <td>0</td>\n",
       "      <td>0.088910</td>\n",
       "      <td>0.0</td>\n",
       "      <td>0.0</td>\n",
       "      <td>0</td>\n",
       "      <td>0.693147</td>\n",
       "      <td>1</td>\n",
       "      <td>False</td>\n",
       "    </tr>\n",
       "    <tr>\n",
       "      <th>264</th>\n",
       "      <td>61608</td>\n",
       "      <td>945446</td>\n",
       "      <td>1999</td>\n",
       "      <td>3.250994</td>\n",
       "      <td>-12.713</td>\n",
       "      <td>-2.122433</td>\n",
       "      <td>0.419352</td>\n",
       "      <td>1</td>\n",
       "      <td>0.0</td>\n",
       "      <td>-0.338124</td>\n",
       "      <td>...</td>\n",
       "      <td>0</td>\n",
       "      <td>65</td>\n",
       "      <td>0</td>\n",
       "      <td>0.000000</td>\n",
       "      <td>0.0</td>\n",
       "      <td>0.0</td>\n",
       "      <td>0</td>\n",
       "      <td>0.693147</td>\n",
       "      <td>1</td>\n",
       "      <td>False</td>\n",
       "    </tr>\n",
       "    <tr>\n",
       "      <th>263</th>\n",
       "      <td>61600</td>\n",
       "      <td>945439</td>\n",
       "      <td>1999</td>\n",
       "      <td>-0.404965</td>\n",
       "      <td>-1.153</td>\n",
       "      <td>3.463117</td>\n",
       "      <td>0.977511</td>\n",
       "      <td>1</td>\n",
       "      <td>0.0</td>\n",
       "      <td>-0.526237</td>\n",
       "      <td>...</td>\n",
       "      <td>0</td>\n",
       "      <td>92</td>\n",
       "      <td>0</td>\n",
       "      <td>10.487256</td>\n",
       "      <td>0.0</td>\n",
       "      <td>0.0</td>\n",
       "      <td>0</td>\n",
       "      <td>0.693147</td>\n",
       "      <td>0</td>\n",
       "      <td>False</td>\n",
       "    </tr>\n",
       "  </tbody>\n",
       "</table>\n",
       "<p>5 rows × 22 columns</p>\n",
       "</div>"
      ],
      "text/plain": [
       "     Unnamed: 0     cik  year      size      ni    zscore  leverage  prloss  \\\n",
       "0            39    1923  1999  4.633233  -0.457 -1.379207  0.782724       1   \n",
       "266       62222  948070  1999  1.291709   0.074 -4.436830  0.296785       1   \n",
       "265       62215  948069  1999  4.775310  10.629 -4.376339  0.250027       1   \n",
       "264       61608  945446  1999  3.250994 -12.713 -2.122433  0.419352       1   \n",
       "263       61600  945439  1999 -0.404965  -1.153  3.463117  0.977511       1   \n",
       "\n",
       "     chgdt       cfo  ...  litigate  reportlag  priorgc  newequity  newdebt  \\\n",
       "0      0.0  0.068627  ...         0         88        0   0.029568      0.0   \n",
       "266    0.0 -0.017862  ...         0        123        0   0.825776      0.0   \n",
       "265    0.0 -0.065780  ...         0         92        0   0.088910      0.0   \n",
       "264    0.0 -0.338124  ...         0         65        0   0.000000      0.0   \n",
       "263    0.0 -0.526237  ...         0         92        0  10.487256      0.0   \n",
       "\n",
       "     dependence  indexpert    tenure  big4  bankruptcy  \n",
       "0           0.0          0  0.693147     1       False  \n",
       "266         0.0          0  0.693147     0       False  \n",
       "265         0.0          0  0.693147     1       False  \n",
       "264         0.0          0  0.693147     1       False  \n",
       "263         0.0          0  0.693147     0       False  \n",
       "\n",
       "[5 rows x 22 columns]"
      ]
     },
     "execution_count": 48,
     "metadata": {},
     "output_type": "execute_result"
    }
   ],
   "source": [
    "data = pd.read_csv('D:/research-assistant/datasets/final.csv')\n",
    "data.sort_values(\"year\", axis = 0, ascending = True, inplace = True, na_position ='last') \n",
    "main_data = pd.get_dummies(data, columns=['year'])\n",
    "main_data['year'] =  data['year']\n",
    "main_shape = main_data.shape[1] - 1\n",
    "X = main_data.iloc[:,range(0,main_shape)]\n",
    "Y = main_data.iloc[:,main_shape]\n",
    "data.head()"
   ]
  },
  {
   "cell_type": "code",
   "execution_count": 49,
   "metadata": {},
   "outputs": [
    {
     "data": {
      "text/plain": [
       "array([1999, 2000, 2001, 2002, 2003, 2004, 2005, 2006, 2007, 2008, 2009,\n",
       "       2010, 2011, 2012, 2013, 2014, 2015, 2016, 2017, 2018], dtype=int64)"
      ]
     },
     "execution_count": 49,
     "metadata": {},
     "output_type": "execute_result"
    }
   ],
   "source": [
    "data.year.unique()"
   ]
  },
  {
   "cell_type": "markdown",
   "metadata": {},
   "source": [
    "### Breaking dataset"
   ]
  },
  {
   "cell_type": "code",
   "execution_count": 50,
   "metadata": {},
   "outputs": [],
   "source": [
    "def data_breakup(dataset, year):\n",
    "    train = pd.DataFrame()\n",
    "    test = pd.DataFrame()\n",
    "    train_year = year+3\n",
    "    for i in range(year,train_year):\n",
    "        new_data = dataset[dataset.year == i]\n",
    "        train = train.append(new_data)\n",
    "    test = dataset[dataset.year == train_year]\n",
    "    data = pd.concat([train, test])\n",
    "    data = data.drop(columns = ['bankruptcy','Unnamed: 0', 'cik', 'year'])\n",
    "    return(train, test, data)"
   ]
  },
  {
   "cell_type": "code",
   "execution_count": 51,
   "metadata": {},
   "outputs": [],
   "source": [
    "training_1999, testing_1999, data_1999 = data_breakup(data, 1999)\n",
    "training_2000, testing_2000, data_2000 = data_breakup(data, 2000)\n",
    "training_2001, testing_2001, data_2001 = data_breakup(data, 2001)\n",
    "training_2002, testing_2002, data_2002 = data_breakup(data, 2002)\n",
    "training_2003, testing_2003, data_2003 = data_breakup(data, 2003)\n",
    "training_2004, testing_2004, data_2004 = data_breakup(data, 2004)\n",
    "training_2005, testing_2005, data_2005 = data_breakup(data, 2005)\n",
    "training_2006, testing_2006, data_2006 = data_breakup(data, 2006)\n",
    "training_2007, testing_2007, data_2007 = data_breakup(data, 2007)\n",
    "training_2008, testing_2008, data_2008 = data_breakup(data, 2008)\n",
    "training_2009, testing_2009, data_2009 = data_breakup(data, 2009)\n",
    "training_2010, testing_2010, data_2010 = data_breakup(data, 2010)\n",
    "training_2011, testing_2011, data_2011 = data_breakup(data, 2011)\n",
    "training_2012, testing_2012, data_2012 = data_breakup(data, 2012)\n",
    "training_2013, testing_2013, data_2013 = data_breakup(data, 2013)\n",
    "training_2014, testing_2014, data_2014 = data_breakup(data, 2014)\n",
    "training_2015, testing_2015, data_2015 = data_breakup(data, 2015)"
   ]
  },
  {
   "cell_type": "markdown",
   "metadata": {},
   "source": [
    "### Running a ML algorithm"
   ]
  },
  {
   "cell_type": "code",
   "execution_count": 52,
   "metadata": {},
   "outputs": [],
   "source": [
    "def ml_model(train, test, data):\n",
    "    train = train.drop(columns = ['Unnamed: 0','cik', \"year\"])\n",
    "    test = test.drop(columns = ['Unnamed: 0','cik', \"year\"])\n",
    "    shape = train.shape[1] - 1\n",
    "    \n",
    "    # splitting the dataset\n",
    "    x_train = train.drop(columns = ['bankruptcy'])\n",
    "    y_train = train['bankruptcy']\n",
    "    x_test = test.drop(columns = ['bankruptcy'])\n",
    "    y_test = test['bankruptcy']\n",
    "    #print(x_train.head())\n",
    "\n",
    "    #Testing dataset\n",
    "    x_test = pd.DataFrame(x_test)\n",
    "    y_test = pd.DataFrame(y_test)\n",
    "\n",
    "\n",
    "    #Training dataset\n",
    "    x_train = pd.DataFrame(x_train)\n",
    "    y_train = pd.DataFrame(y_train)\n",
    "    \n",
    "    rf_model = RandomForestClassifier(random_state = 123, n_estimators = 500, criterion = 'entropy',max_leaf_nodes=1000, max_depth  = 15,  n_jobs=-1)\n",
    "    rf_model.fit(x_train, y_train)\n",
    "    y_pred_rf = rf_model.predict(x_test)\n",
    "    y_pred_proba = rf_model.predict_proba(x_test)\n",
    "    y_pred_proba = [p[1] for p in y_pred_proba]\n",
    "    \n",
    "    print(accuracy_score(y_test, y_pred_rf))\n",
    "    print(classification_report(y_test,y_pred_rf))\n",
    "    viz = ConfusionMatrix(rf_model)\n",
    "    viz.fit(x_train, y_train)\n",
    "    viz.score(x_test, y_test)\n",
    "    viz.show()\n",
    "    scores = cross_val_score(rf_model, X, Y, cv=10)\n",
    "    scores = scores.sum()/10\n",
    "    data['rf_model'] =  rf_model.predict(data)\n",
    "    \n",
    "    \n",
    "    print(scores)"
   ]
  },
  {
   "cell_type": "code",
   "execution_count": 53,
   "metadata": {},
   "outputs": [
    {
     "name": "stdout",
     "output_type": "stream",
     "text": [
      "0.9812108559498957\n",
      "              precision    recall  f1-score   support\n",
      "\n",
      "       False       0.98      1.00      0.99       406\n",
      "        True       0.98      0.89      0.94        73\n",
      "\n",
      "    accuracy                           0.98       479\n",
      "   macro avg       0.98      0.94      0.96       479\n",
      "weighted avg       0.98      0.98      0.98       479\n",
      "\n"
     ]
    },
    {
     "data": {
      "image/png": "[encoded data removed]",
      "text/plain": [
       "<Figure size 432x288 with 1 Axes>"
      ]
     },
     "metadata": {
      "needs_background": "light"
     },
     "output_type": "display_data"
    },
    {
     "name": "stdout",
     "output_type": "stream",
     "text": [
      "0.9990641711229946\n"
     ]
    }
   ],
   "source": [
    "ml_model(training_1999, testing_1999,  data_1999)"
   ]
  },
  {
   "cell_type": "code",
   "execution_count": 54,
   "metadata": {},
   "outputs": [
    {
     "name": "stdout",
     "output_type": "stream",
     "text": [
      "0.9955156950672646\n",
      "              precision    recall  f1-score   support\n",
      "\n",
      "       False       0.99      1.00      1.00       191\n",
      "        True       1.00      0.97      0.98        32\n",
      "\n",
      "    accuracy                           1.00       223\n",
      "   macro avg       1.00      0.98      0.99       223\n",
      "weighted avg       1.00      1.00      1.00       223\n",
      "\n"
     ]
    },
    {
     "data": {
      "image/png": "[encoded data removed]",
      "text/plain": [
       "<Figure size 432x288 with 1 Axes>"
      ]
     },
     "metadata": {
      "needs_background": "light"
     },
     "output_type": "display_data"
    },
    {
     "name": "stdout",
     "output_type": "stream",
     "text": [
      "0.9990641711229946\n"
     ]
    }
   ],
   "source": [
    "ml_model(training_2000, testing_2000, data_2000)"
   ]
  },
  {
   "cell_type": "code",
   "execution_count": 55,
   "metadata": {},
   "outputs": [
    {
     "name": "stdout",
     "output_type": "stream",
     "text": [
      "0.9890710382513661\n",
      "              precision    recall  f1-score   support\n",
      "\n",
      "       False       0.99      1.00      0.99       150\n",
      "        True       1.00      0.94      0.97        33\n",
      "\n",
      "    accuracy                           0.99       183\n",
      "   macro avg       0.99      0.97      0.98       183\n",
      "weighted avg       0.99      0.99      0.99       183\n",
      "\n"
     ]
    },
    {
     "data": {
      "image/png": "[encoded data removed]",
      "text/plain": [
       "<Figure size 432x288 with 1 Axes>"
      ]
     },
     "metadata": {
      "needs_background": "light"
     },
     "output_type": "display_data"
    },
    {
     "name": "stdout",
     "output_type": "stream",
     "text": [
      "0.9990641711229946\n"
     ]
    }
   ],
   "source": [
    "ml_model(training_2001, testing_2001, data_2001)"
   ]
  },
  {
   "cell_type": "code",
   "execution_count": 56,
   "metadata": {},
   "outputs": [
    {
     "name": "stdout",
     "output_type": "stream",
     "text": [
      "0.9954545454545455\n",
      "              precision    recall  f1-score   support\n",
      "\n",
      "       False       0.99      1.00      1.00       195\n",
      "        True       1.00      0.96      0.98        25\n",
      "\n",
      "    accuracy                           1.00       220\n",
      "   macro avg       1.00      0.98      0.99       220\n",
      "weighted avg       1.00      1.00      1.00       220\n",
      "\n"
     ]
    },
    {
     "data": {
      "image/png": "[encoded data removed]",
      "text/plain": [
       "<Figure size 432x288 with 1 Axes>"
      ]
     },
     "metadata": {
      "needs_background": "light"
     },
     "output_type": "display_data"
    },
    {
     "name": "stdout",
     "output_type": "stream",
     "text": [
      "0.9990641711229946\n"
     ]
    }
   ],
   "source": [
    "ml_model(training_2002, testing_2002, data_2002)"
   ]
  },
  {
   "cell_type": "code",
   "execution_count": 57,
   "metadata": {},
   "outputs": [
    {
     "name": "stdout",
     "output_type": "stream",
     "text": [
      "0.9894179894179894\n",
      "              precision    recall  f1-score   support\n",
      "\n",
      "       False       0.99      0.99      0.99       168\n",
      "        True       0.95      0.95      0.95        21\n",
      "\n",
      "    accuracy                           0.99       189\n",
      "   macro avg       0.97      0.97      0.97       189\n",
      "weighted avg       0.99      0.99      0.99       189\n",
      "\n"
     ]
    },
    {
     "data": {
      "image/png": "[encoded data removed]",
      "text/plain": [
       "<Figure size 432x288 with 1 Axes>"
      ]
     },
     "metadata": {
      "needs_background": "light"
     },
     "output_type": "display_data"
    },
    {
     "name": "stdout",
     "output_type": "stream",
     "text": [
      "0.9990641711229946\n"
     ]
    }
   ],
   "source": [
    "ml_model(training_2003, testing_2003, data_2003)"
   ]
  },
  {
   "cell_type": "code",
   "execution_count": 58,
   "metadata": {},
   "outputs": [
    {
     "name": "stdout",
     "output_type": "stream",
     "text": [
      "0.9832402234636871\n",
      "              precision    recall  f1-score   support\n",
      "\n",
      "       False       0.98      1.00      0.99       128\n",
      "        True       1.00      0.94      0.97        51\n",
      "\n",
      "    accuracy                           0.98       179\n",
      "   macro avg       0.99      0.97      0.98       179\n",
      "weighted avg       0.98      0.98      0.98       179\n",
      "\n"
     ]
    },
    {
     "data": {
      "image/png": "[encoded data removed]",
      "text/plain": [
       "<Figure size 432x288 with 1 Axes>"
      ]
     },
     "metadata": {
      "needs_background": "light"
     },
     "output_type": "display_data"
    },
    {
     "name": "stdout",
     "output_type": "stream",
     "text": [
      "0.9990641711229946\n"
     ]
    }
   ],
   "source": [
    "ml_model(training_2004, testing_2004,  data_2004)"
   ]
  },
  {
   "cell_type": "code",
   "execution_count": 59,
   "metadata": {},
   "outputs": [
    {
     "name": "stdout",
     "output_type": "stream",
     "text": [
      "0.979381443298969\n",
      "              precision    recall  f1-score   support\n",
      "\n",
      "       False       0.97      1.00      0.98       123\n",
      "        True       1.00      0.94      0.97        71\n",
      "\n",
      "    accuracy                           0.98       194\n",
      "   macro avg       0.98      0.97      0.98       194\n",
      "weighted avg       0.98      0.98      0.98       194\n",
      "\n"
     ]
    },
    {
     "data": {
      "image/png": "[encoded data removed]",
      "text/plain": [
       "<Figure size 432x288 with 1 Axes>"
      ]
     },
     "metadata": {
      "needs_background": "light"
     },
     "output_type": "display_data"
    },
    {
     "name": "stdout",
     "output_type": "stream",
     "text": [
      "0.9990641711229946\n"
     ]
    }
   ],
   "source": [
    "ml_model(training_2005, testing_2005,  data_2005)"
   ]
  },
  {
   "cell_type": "code",
   "execution_count": 60,
   "metadata": {},
   "outputs": [
    {
     "name": "stdout",
     "output_type": "stream",
     "text": [
      "0.9949238578680203\n",
      "              precision    recall  f1-score   support\n",
      "\n",
      "       False       0.99      1.00      1.00       177\n",
      "        True       1.00      0.95      0.97        20\n",
      "\n",
      "    accuracy                           0.99       197\n",
      "   macro avg       1.00      0.97      0.99       197\n",
      "weighted avg       0.99      0.99      0.99       197\n",
      "\n"
     ]
    },
    {
     "data": {
      "image/png": "[encoded data removed]",
      "text/plain": [
       "<Figure size 432x288 with 1 Axes>"
      ]
     },
     "metadata": {
      "needs_background": "light"
     },
     "output_type": "display_data"
    },
    {
     "name": "stdout",
     "output_type": "stream",
     "text": [
      "0.9990641711229946\n"
     ]
    }
   ],
   "source": [
    "ml_model(training_2006, testing_2006,  data_2006)"
   ]
  },
  {
   "cell_type": "code",
   "execution_count": 61,
   "metadata": {},
   "outputs": [
    {
     "name": "stdout",
     "output_type": "stream",
     "text": [
      "0.9887640449438202\n",
      "              precision    recall  f1-score   support\n",
      "\n",
      "       False       0.99      1.00      0.99       151\n",
      "        True       1.00      0.93      0.96        27\n",
      "\n",
      "    accuracy                           0.99       178\n",
      "   macro avg       0.99      0.96      0.98       178\n",
      "weighted avg       0.99      0.99      0.99       178\n",
      "\n"
     ]
    },
    {
     "data": {
      "image/png": "[encoded data removed]",
      "text/plain": [
       "<Figure size 432x288 with 1 Axes>"
      ]
     },
     "metadata": {
      "needs_background": "light"
     },
     "output_type": "display_data"
    },
    {
     "name": "stdout",
     "output_type": "stream",
     "text": [
      "0.9990641711229946\n"
     ]
    }
   ],
   "source": [
    "ml_model(training_2007, testing_2007,  data_2007)"
   ]
  },
  {
   "cell_type": "code",
   "execution_count": 62,
   "metadata": {},
   "outputs": [
    {
     "name": "stdout",
     "output_type": "stream",
     "text": [
      "1.0\n",
      "              precision    recall  f1-score   support\n",
      "\n",
      "       False       1.00      1.00      1.00       136\n",
      "        True       1.00      1.00      1.00        26\n",
      "\n",
      "    accuracy                           1.00       162\n",
      "   macro avg       1.00      1.00      1.00       162\n",
      "weighted avg       1.00      1.00      1.00       162\n",
      "\n"
     ]
    },
    {
     "data": {
      "image/png": "[encoded data removed]",
      "text/plain": [
       "<Figure size 432x288 with 1 Axes>"
      ]
     },
     "metadata": {
      "needs_background": "light"
     },
     "output_type": "display_data"
    },
    {
     "name": "stdout",
     "output_type": "stream",
     "text": [
      "0.9990641711229946\n"
     ]
    }
   ],
   "source": [
    "ml_model(training_2008, testing_2008,  data_2008)"
   ]
  },
  {
   "cell_type": "code",
   "execution_count": 63,
   "metadata": {},
   "outputs": [
    {
     "name": "stdout",
     "output_type": "stream",
     "text": [
      "0.995475113122172\n",
      "              precision    recall  f1-score   support\n",
      "\n",
      "       False       1.00      1.00      1.00       202\n",
      "        True       1.00      0.95      0.97        19\n",
      "\n",
      "    accuracy                           1.00       221\n",
      "   macro avg       1.00      0.97      0.99       221\n",
      "weighted avg       1.00      1.00      1.00       221\n",
      "\n"
     ]
    },
    {
     "data": {
      "image/png": "[encoded data removed]",
      "text/plain": [
       "<Figure size 432x288 with 1 Axes>"
      ]
     },
     "metadata": {
      "needs_background": "light"
     },
     "output_type": "display_data"
    },
    {
     "name": "stdout",
     "output_type": "stream",
     "text": [
      "0.9990641711229946\n"
     ]
    }
   ],
   "source": [
    "ml_model(training_2009, testing_2009,  data_2009)"
   ]
  },
  {
   "cell_type": "code",
   "execution_count": 64,
   "metadata": {},
   "outputs": [
    {
     "name": "stdout",
     "output_type": "stream",
     "text": [
      "1.0\n",
      "              precision    recall  f1-score   support\n",
      "\n",
      "       False       1.00      1.00      1.00       286\n",
      "        True       1.00      1.00      1.00        24\n",
      "\n",
      "    accuracy                           1.00       310\n",
      "   macro avg       1.00      1.00      1.00       310\n",
      "weighted avg       1.00      1.00      1.00       310\n",
      "\n"
     ]
    },
    {
     "data": {
      "image/png": "[encoded data removed]",
      "text/plain": [
       "<Figure size 432x288 with 1 Axes>"
      ]
     },
     "metadata": {
      "needs_background": "light"
     },
     "output_type": "display_data"
    },
    {
     "name": "stdout",
     "output_type": "stream",
     "text": [
      "0.9990641711229946\n"
     ]
    }
   ],
   "source": [
    "ml_model(training_2010, testing_2010,  data_2010)"
   ]
  },
  {
   "cell_type": "code",
   "execution_count": 65,
   "metadata": {},
   "outputs": [
    {
     "name": "stdout",
     "output_type": "stream",
     "text": [
      "0.9913793103448276\n",
      "              precision    recall  f1-score   support\n",
      "\n",
      "       False       0.99      1.00      1.00       204\n",
      "        True       1.00      0.93      0.96        28\n",
      "\n",
      "    accuracy                           0.99       232\n",
      "   macro avg       1.00      0.96      0.98       232\n",
      "weighted avg       0.99      0.99      0.99       232\n",
      "\n"
     ]
    },
    {
     "data": {
      "image/png": "[encoded data removed]",
      "text/plain": [
       "<Figure size 432x288 with 1 Axes>"
      ]
     },
     "metadata": {
      "needs_background": "light"
     },
     "output_type": "display_data"
    },
    {
     "name": "stdout",
     "output_type": "stream",
     "text": [
      "0.9990641711229946\n"
     ]
    }
   ],
   "source": [
    "ml_model(training_2011, testing_2011,  data_2011)"
   ]
  },
  {
   "cell_type": "code",
   "execution_count": 66,
   "metadata": {},
   "outputs": [
    {
     "name": "stdout",
     "output_type": "stream",
     "text": [
      "0.983957219251337\n",
      "              precision    recall  f1-score   support\n",
      "\n",
      "       False       0.98      1.00      0.99       143\n",
      "        True       1.00      0.93      0.96        44\n",
      "\n",
      "    accuracy                           0.98       187\n",
      "   macro avg       0.99      0.97      0.98       187\n",
      "weighted avg       0.98      0.98      0.98       187\n",
      "\n"
     ]
    },
    {
     "data": {
      "image/png": "[encoded data removed]",
      "text/plain": [
       "<Figure size 432x288 with 1 Axes>"
      ]
     },
     "metadata": {
      "needs_background": "light"
     },
     "output_type": "display_data"
    },
    {
     "name": "stdout",
     "output_type": "stream",
     "text": [
      "0.9990641711229946\n"
     ]
    }
   ],
   "source": [
    "ml_model(training_2012, testing_2012,  data_2012)"
   ]
  },
  {
   "cell_type": "code",
   "execution_count": 67,
   "metadata": {},
   "outputs": [
    {
     "name": "stdout",
     "output_type": "stream",
     "text": [
      "0.9953703703703703\n",
      "              precision    recall  f1-score   support\n",
      "\n",
      "       False       0.99      1.00      1.00       191\n",
      "        True       1.00      0.96      0.98        25\n",
      "\n",
      "    accuracy                           1.00       216\n",
      "   macro avg       1.00      0.98      0.99       216\n",
      "weighted avg       1.00      1.00      1.00       216\n",
      "\n"
     ]
    },
    {
     "data": {
      "image/png": "[encoded data removed]",
      "text/plain": [
       "<Figure size 432x288 with 1 Axes>"
      ]
     },
     "metadata": {
      "needs_background": "light"
     },
     "output_type": "display_data"
    },
    {
     "name": "stdout",
     "output_type": "stream",
     "text": [
      "0.9990641711229946\n"
     ]
    }
   ],
   "source": [
    "ml_model(training_2013, testing_2013, data_2013)"
   ]
  },
  {
   "cell_type": "code",
   "execution_count": 68,
   "metadata": {},
   "outputs": [
    {
     "name": "stdout",
     "output_type": "stream",
     "text": [
      "1.0\n",
      "              precision    recall  f1-score   support\n",
      "\n",
      "       False       1.00      1.00      1.00       203\n",
      "        True       1.00      1.00      1.00        23\n",
      "\n",
      "    accuracy                           1.00       226\n",
      "   macro avg       1.00      1.00      1.00       226\n",
      "weighted avg       1.00      1.00      1.00       226\n",
      "\n"
     ]
    },
    {
     "data": {
      "image/png": "[encoded data removed]",
      "text/plain": [
       "<Figure size 432x288 with 1 Axes>"
      ]
     },
     "metadata": {
      "needs_background": "light"
     },
     "output_type": "display_data"
    },
    {
     "name": "stdout",
     "output_type": "stream",
     "text": [
      "0.9990641711229946\n"
     ]
    }
   ],
   "source": [
    "ml_model(training_2014, testing_2014,  data_2014)"
   ]
  },
  {
   "cell_type": "code",
   "execution_count": 69,
   "metadata": {},
   "outputs": [
    {
     "name": "stdout",
     "output_type": "stream",
     "text": [
      "1.0\n",
      "              precision    recall  f1-score   support\n",
      "\n",
      "       False       1.00      1.00      1.00        63\n",
      "        True       1.00      1.00      1.00        11\n",
      "\n",
      "    accuracy                           1.00        74\n",
      "   macro avg       1.00      1.00      1.00        74\n",
      "weighted avg       1.00      1.00      1.00        74\n",
      "\n"
     ]
    },
    {
     "data": {
      "image/png": "[encoded data removed]",
      "text/plain": [
       "<Figure size 432x288 with 1 Axes>"
      ]
     },
     "metadata": {
      "needs_background": "light"
     },
     "output_type": "display_data"
    },
    {
     "name": "stdout",
     "output_type": "stream",
     "text": [
      "0.9990641711229946\n"
     ]
    }
   ],
   "source": [
    "ml_model(training_2015, testing_2015, data_2015)"
   ]
  },
  {
   "cell_type": "code",
   "execution_count": 70,
   "metadata": {},
   "outputs": [
    {
     "ename": "SyntaxError",
     "evalue": "invalid syntax (<ipython-input-70-017d2b0d705e>, line 1)",
     "output_type": "error",
     "traceback": [
      "\u001b[1;36m  File \u001b[1;32m\"<ipython-input-70-017d2b0d705e>\"\u001b[1;36m, line \u001b[1;32m1\u001b[0m\n\u001b[1;33m    final_data = pd.concat([data_1999, data_2000, data_2002, data_2003, data_2004, data_2005, data_2006, data_2007, data_2008, data_2009, data_2010, data_2011, data_2012, data_2013, , data_2014, data_2015])\u001b[0m\n\u001b[1;37m                                                                                                                                                                                      ^\u001b[0m\n\u001b[1;31mSyntaxError\u001b[0m\u001b[1;31m:\u001b[0m invalid syntax\n"
     ]
    }
   ],
   "source": [
    "final_data = pd.concat([data_1999, data_2000, data_2002, data_2003, data_2004, data_2005, data_2006, data_2007, data_2008, data_2009, data_2010, data_2011, data_2012, data_2013, , data_2014, data_2015])\n",
    "final_data.to_csv('C:/Users/jayan/OneDrive/Documents/GitHub/Bankruptcy-Prediction/Data/data3.0.csv')"
   ]
  },
  {
   "cell_type": "code",
   "execution_count": null,
   "metadata": {},
   "outputs": [],
   "source": []
  }
 ],
 "metadata": {
  "kernelspec": {
   "display_name": "Python 3",
   "language": "python",
   "name": "python3"
  },
  "language_info": {
   "codemirror_mode": {
    "name": "ipython",
    "version": 3
   },
   "file_extension": ".py",
   "mimetype": "text/x-python",
   "name": "python",
   "nbconvert_exporter": "python",
   "pygments_lexer": "ipython3",
   "version": "3.7.5"
  }
 },
 "nbformat": 4,
 "nbformat_minor": 4
}
