{
 "cells": [
  {
   "cell_type": "markdown",
   "metadata": {},
   "source": [
    "# EXPERIMENT 1\n",
    "\n",
    "### ML Prcatices\n",
    "    - Logistic Regression\n",
    "    - Naive-Bayes Classifier\n",
    "    - K-nearest Neighbor classifier\n",
    "    - Support vector classifier\n",
    "    - Decision tree classifier\n",
    "    - Random forest c"
   ]
  },
  {
   "cell_type": "code",
   "execution_count": 4,
   "metadata": {},
   "outputs": [],
   "source": [
    "import matplotlib.pyplot as plt\n",
    "import seaborn as sns\n",
    "import pandas as pd\n",
    "import numpy as np\n",
    "from sklearn.ensemble import RandomForestClassifier\n",
    "from sklearn import svm\n",
    "from sklearn.metrics import roc_curve, auc\n",
    "from sklearn.linear_model import LogisticRegression\n",
    "from sklearn.model_selection import train_test_split\n",
    "from sklearn.metrics import classification_report\n",
    "from sklearn.naive_bayes import GaussianNB\n",
    "from sklearn.tree import DecisionTreeClassifier\n",
    "from sklearn.metrics import accuracy_score\n",
    "from sklearn.preprocessing import StandardScaler\n",
    "from sklearn.metrics import f1_score\n",
    "from yellowbrick.classifier import ConfusionMatrix\n",
    "from sklearn.model_selection import cross_val_score\n",
    "from sklearn.utils import resample\n",
    "from sklearn.metrics import accuracy_score\n",
    "from sklearn.neighbors import KNeighborsClassifier\n",
    "from sklearn.svm import SVC\n",
    "from sklearn.tree import DecisionTreeClassifier\n",
    "from sklearn.model_selection import GridSearchCV\n",
    "from xgboost import XGBClassifier\n",
    "import xgboost as xgb\n",
    "import warnings \n",
    "\n",
    "warnings.filterwarnings(\"ignore\")\n",
    "\n",
    "\n",
    "%matplotlib inline"
   ]
  },
  {
   "cell_type": "code",
   "execution_count": 5,
   "metadata": {},
   "outputs": [
    {
     "data": {
      "text/html": [
       "<div>\n",
       "<style scoped>\n",
       "    .dataframe tbody tr th:only-of-type {\n",
       "        vertical-align: middle;\n",
       "    }\n",
       "\n",
       "    .dataframe tbody tr th {\n",
       "        vertical-align: top;\n",
       "    }\n",
       "\n",
       "    .dataframe thead th {\n",
       "        text-align: right;\n",
       "    }\n",
       "</style>\n",
       "<table border=\"1\" class=\"dataframe\">\n",
       "  <thead>\n",
       "    <tr style=\"text-align: right;\">\n",
       "      <th></th>\n",
       "      <th>Unnamed: 0</th>\n",
       "      <th>cik</th>\n",
       "      <th>size</th>\n",
       "      <th>ni</th>\n",
       "      <th>zscore</th>\n",
       "      <th>leverage</th>\n",
       "      <th>prloss</th>\n",
       "      <th>chgdt</th>\n",
       "      <th>cfo</th>\n",
       "      <th>liquidity</th>\n",
       "      <th>...</th>\n",
       "      <th>2010</th>\n",
       "      <th>2011</th>\n",
       "      <th>2012</th>\n",
       "      <th>2013</th>\n",
       "      <th>2014</th>\n",
       "      <th>2015</th>\n",
       "      <th>2016</th>\n",
       "      <th>2017</th>\n",
       "      <th>2018</th>\n",
       "      <th>bankruptcy</th>\n",
       "    </tr>\n",
       "  </thead>\n",
       "  <tbody>\n",
       "    <tr>\n",
       "      <th>0</th>\n",
       "      <td>0</td>\n",
       "      <td>1923</td>\n",
       "      <td>4.633233</td>\n",
       "      <td>-0.457</td>\n",
       "      <td>-1.379207</td>\n",
       "      <td>0.782724</td>\n",
       "      <td>1</td>\n",
       "      <td>0.0</td>\n",
       "      <td>0.068627</td>\n",
       "      <td>0.070678</td>\n",
       "      <td>...</td>\n",
       "      <td>0</td>\n",
       "      <td>0</td>\n",
       "      <td>0</td>\n",
       "      <td>0</td>\n",
       "      <td>0</td>\n",
       "      <td>0</td>\n",
       "      <td>0</td>\n",
       "      <td>0</td>\n",
       "      <td>0</td>\n",
       "      <td>False</td>\n",
       "    </tr>\n",
       "    <tr>\n",
       "      <th>1</th>\n",
       "      <td>1</td>\n",
       "      <td>1961</td>\n",
       "      <td>0.674983</td>\n",
       "      <td>-8.920</td>\n",
       "      <td>22.164456</td>\n",
       "      <td>2.979633</td>\n",
       "      <td>1</td>\n",
       "      <td>0.0</td>\n",
       "      <td>-2.646130</td>\n",
       "      <td>0.019348</td>\n",
       "      <td>...</td>\n",
       "      <td>0</td>\n",
       "      <td>0</td>\n",
       "      <td>0</td>\n",
       "      <td>0</td>\n",
       "      <td>0</td>\n",
       "      <td>0</td>\n",
       "      <td>0</td>\n",
       "      <td>0</td>\n",
       "      <td>0</td>\n",
       "      <td>False</td>\n",
       "    </tr>\n",
       "    <tr>\n",
       "      <th>2</th>\n",
       "      <td>2</td>\n",
       "      <td>2062</td>\n",
       "      <td>4.720426</td>\n",
       "      <td>2.224</td>\n",
       "      <td>0.000000</td>\n",
       "      <td>0.665966</td>\n",
       "      <td>1</td>\n",
       "      <td>0.0</td>\n",
       "      <td>-0.072984</td>\n",
       "      <td>0.066363</td>\n",
       "      <td>...</td>\n",
       "      <td>0</td>\n",
       "      <td>0</td>\n",
       "      <td>0</td>\n",
       "      <td>0</td>\n",
       "      <td>0</td>\n",
       "      <td>0</td>\n",
       "      <td>0</td>\n",
       "      <td>0</td>\n",
       "      <td>0</td>\n",
       "      <td>False</td>\n",
       "    </tr>\n",
       "    <tr>\n",
       "      <th>3</th>\n",
       "      <td>3</td>\n",
       "      <td>2186</td>\n",
       "      <td>2.913546</td>\n",
       "      <td>-1.428</td>\n",
       "      <td>-1.775756</td>\n",
       "      <td>0.654761</td>\n",
       "      <td>1</td>\n",
       "      <td>0.0</td>\n",
       "      <td>-0.023179</td>\n",
       "      <td>0.011291</td>\n",
       "      <td>...</td>\n",
       "      <td>0</td>\n",
       "      <td>0</td>\n",
       "      <td>0</td>\n",
       "      <td>0</td>\n",
       "      <td>0</td>\n",
       "      <td>0</td>\n",
       "      <td>0</td>\n",
       "      <td>0</td>\n",
       "      <td>0</td>\n",
       "      <td>False</td>\n",
       "    </tr>\n",
       "    <tr>\n",
       "      <th>4</th>\n",
       "      <td>4</td>\n",
       "      <td>2491</td>\n",
       "      <td>5.861604</td>\n",
       "      <td>-15.035</td>\n",
       "      <td>1.420819</td>\n",
       "      <td>1.140723</td>\n",
       "      <td>1</td>\n",
       "      <td>0.0</td>\n",
       "      <td>-0.008423</td>\n",
       "      <td>0.091219</td>\n",
       "      <td>...</td>\n",
       "      <td>0</td>\n",
       "      <td>0</td>\n",
       "      <td>0</td>\n",
       "      <td>0</td>\n",
       "      <td>0</td>\n",
       "      <td>0</td>\n",
       "      <td>0</td>\n",
       "      <td>0</td>\n",
       "      <td>0</td>\n",
       "      <td>False</td>\n",
       "    </tr>\n",
       "  </tbody>\n",
       "</table>\n",
       "<p>5 rows × 41 columns</p>\n",
       "</div>"
      ],
      "text/plain": [
       "   Unnamed: 0   cik      size      ni     zscore  leverage  prloss  chgdt  \\\n",
       "0           0  1923  4.633233  -0.457  -1.379207  0.782724       1    0.0   \n",
       "1           1  1961  0.674983  -8.920  22.164456  2.979633       1    0.0   \n",
       "2           2  2062  4.720426   2.224   0.000000  0.665966       1    0.0   \n",
       "3           3  2186  2.913546  -1.428  -1.775756  0.654761       1    0.0   \n",
       "4           4  2491  5.861604 -15.035   1.420819  1.140723       1    0.0   \n",
       "\n",
       "        cfo  liquidity  ...  2010  2011  2012  2013  2014  2015  2016  2017  \\\n",
       "0  0.068627   0.070678  ...     0     0     0     0     0     0     0     0   \n",
       "1 -2.646130   0.019348  ...     0     0     0     0     0     0     0     0   \n",
       "2 -0.072984   0.066363  ...     0     0     0     0     0     0     0     0   \n",
       "3 -0.023179   0.011291  ...     0     0     0     0     0     0     0     0   \n",
       "4 -0.008423   0.091219  ...     0     0     0     0     0     0     0     0   \n",
       "\n",
       "   2018  bankruptcy  \n",
       "0     0       False  \n",
       "1     0       False  \n",
       "2     0       False  \n",
       "3     0       False  \n",
       "4     0       False  \n",
       "\n",
       "[5 rows x 41 columns]"
      ]
     },
     "execution_count": 5,
     "metadata": {},
     "output_type": "execute_result"
    }
   ],
   "source": [
    "data = pd.read_csv('D:/research-assistant/datasets/ml_dataset.csv')\n",
    "data.head()"
   ]
  },
  {
   "cell_type": "code",
   "execution_count": 8,
   "metadata": {},
   "outputs": [],
   "source": [
    "def preprocessing (x):\n",
    "    x = x.drop(columns = ['Unnamed: 0','cik'])\n",
    "    shape = x.shape[1] - 1\n",
    "    \n",
    "    # Normalizing the data\n",
    "    sc = StandardScaler()\n",
    "    x.iloc[:,range(0,shape)] = sc.fit_transform(x.iloc[:,range(0,shape)])\n",
    "\n",
    "    \n",
    "    # splitting the dataset\n",
    "    X = x.iloc[:,range(0,shape)]\n",
    "    Y = x.iloc[:,shape]\n",
    "    x_train,x_test, y_train,y_test = train_test_split( x.iloc[:,range(0,shape)], x.iloc[:,shape], random_state = 123, test_size = 0.20 )\n",
    "    #print(x_train.head())\n",
    "    \n",
    "    #Testing dataset\n",
    "    y_test = pd.DataFrame(y_test)\n",
    "    testing = x_test.join(y_test)\n",
    "       \n",
    "    #Training dataset\n",
    "    y_train = pd.DataFrame(y_train)\n",
    "    training = x_train.join(y_train)\n",
    "    \n",
    "    #splitting the data \n",
    "    data_majority = training[training['bankruptcy']==0]\n",
    "    data_minority = training[training['bankruptcy']==1]\n",
    "    \n",
    "    #upsampling dataset\n",
    "    count = data_majority[\"bankruptcy\"].value_counts()\n",
    "    count = count[0]\n",
    "    \n",
    "    #upsample minority class\n",
    "    data_minority_upsampled = resample(data_minority,\n",
    "                                  replace = True,\n",
    "                                  n_samples = count,\n",
    "                                  random_state = 123)\n",
    "    df_upsampled = pd.concat([data_majority, data_minority_upsampled])\n",
    "    #print(df_upsampled.head())\n",
    "    y_upsampledtrain = df_upsampled[\"bankruptcy\"]\n",
    "    x_upsampledtrain = df_upsampled.drop(columns = [\"bankruptcy\"], axis=1)\n",
    "    y_upsampledtrain = pd.DataFrame(y_upsampledtrain)\n",
    "\n",
    "    \n",
    "    print('Preprocessing Complete')\n",
    "    return(X, x_train, x_test, Y, y_train, y_test, x_upsampledtrain, y_upsampledtrain, testing)"
   ]
  },
  {
   "cell_type": "code",
   "execution_count": 9,
   "metadata": {},
   "outputs": [
    {
     "name": "stdout",
     "output_type": "stream",
     "text": [
      "Preprocessing Complete\n"
     ]
    }
   ],
   "source": [
    "X, x_train, x_test, Y, y_train, y_test, x_upsampledtrain, y_upsampledtrain, testing = preprocessing(data)"
   ]
  },
  {
   "cell_type": "markdown",
   "metadata": {},
   "source": [
    "### Logistic Regression"
   ]
  },
  {
   "cell_type": "code",
   "execution_count": 18,
   "metadata": {},
   "outputs": [
    {
     "name": "stdout",
     "output_type": "stream",
     "text": [
      "0.9779559118236473\n",
      "              precision    recall  f1-score   support\n",
      "\n",
      "       False       0.98      1.00      0.99      1340\n",
      "        True       1.00      0.79      0.88       157\n",
      "\n",
      "    accuracy                           0.98      1497\n",
      "   macro avg       0.99      0.89      0.94      1497\n",
      "weighted avg       0.98      0.98      0.98      1497\n",
      "\n"
     ]
    },
    {
     "data": {
      "image/png": "[encoded data removed]",
      "text/plain": [
       "<Figure size 432x288 with 1 Axes>"
      ]
     },
     "metadata": {
      "needs_background": "light"
     },
     "output_type": "display_data"
    }
   ],
   "source": [
    "logmodel = LogisticRegression(random_state=123)\n",
    "logmodel.fit(x_train, y_train)\n",
    "y_pred = logmodel.predict(x_test)\n",
    "print(accuracy_score(y_test, y_pred))\n",
    "print(classification_report(y_test,y_pred))\n",
    "viz = ConfusionMatrix(logmodel)\n",
    "viz.fit(x_train, y_train)\n",
    "viz.score(x_test, y_test)\n",
    "viz.show()\n",
    "scores = cross_val_score(logmodel, X, Y, cv=5)\n",
    "scores.sum()/5\n",
    "data['logmodel_pred'] = logmodel.predict(X)"
   ]
  },
  {
   "cell_type": "markdown",
   "metadata": {},
   "source": [
    "### Naive-Bayes Classifier"
   ]
  },
  {
   "cell_type": "code",
   "execution_count": 22,
   "metadata": {},
   "outputs": [
    {
     "name": "stdout",
     "output_type": "stream",
     "text": [
      "0.9799599198396793\n",
      "              precision    recall  f1-score   support\n",
      "\n",
      "       False       0.98      1.00      0.99      1340\n",
      "        True       1.00      0.81      0.89       157\n",
      "\n",
      "    accuracy                           0.98      1497\n",
      "   macro avg       0.99      0.90      0.94      1497\n",
      "weighted avg       0.98      0.98      0.98      1497\n",
      "\n"
     ]
    },
    {
     "data": {
      "image/png": "[encoded data removed]",
      "text/plain": [
       "<Figure size 432x288 with 1 Axes>"
      ]
     },
     "metadata": {
      "needs_background": "light"
     },
     "output_type": "display_data"
    }
   ],
   "source": [
    "nb = GaussianNB()\n",
    "nb.fit(x_train, y_train)\n",
    "y_pred = nb.predict(x_test)\n",
    "print(accuracy_score(y_test, y_pred))\n",
    "print(classification_report(y_test,y_pred))\n",
    "viz = ConfusionMatrix(nb)\n",
    "viz.fit(x_train, y_train)\n",
    "viz.score(x_test, y_test)\n",
    "viz.show()\n",
    "scores = cross_val_score(nb, X, Y, cv=5)\n",
    "scores.sum()/5\n",
    "data['naivebayes_pred'] = nb.predict(X)"
   ]
  },
  {
   "cell_type": "markdown",
   "metadata": {},
   "source": [
    "### K-Nearest Neighbors Classifier"
   ]
  },
  {
   "cell_type": "code",
   "execution_count": 23,
   "metadata": {},
   "outputs": [
    {
     "name": "stdout",
     "output_type": "stream",
     "text": [
      "0.9632598530394122\n",
      "              precision    recall  f1-score   support\n",
      "\n",
      "       False       0.96      1.00      0.98      1340\n",
      "        True       0.97      0.67      0.79       157\n",
      "\n",
      "    accuracy                           0.96      1497\n",
      "   macro avg       0.97      0.83      0.89      1497\n",
      "weighted avg       0.96      0.96      0.96      1497\n",
      "\n"
     ]
    },
    {
     "data": {
      "image/png": "[encoded data removed]",
      "text/plain": [
       "<Figure size 432x288 with 1 Axes>"
      ]
     },
     "metadata": {
      "needs_background": "light"
     },
     "output_type": "display_data"
    }
   ],
   "source": [
    "KN_classifier = KNeighborsClassifier(n_neighbors = 5, metric = 'minkowski', p= 2)\n",
    "KN_classifier.fit(x_train, y_train)\n",
    "y_pred = KN_classifier.predict(x_test)\n",
    "print(accuracy_score(y_test, y_pred))\n",
    "print(classification_report(y_test,y_pred))\n",
    "viz = ConfusionMatrix(KN_classifier)\n",
    "viz.fit(x_train, y_train)\n",
    "viz.score(x_test, y_test)\n",
    "viz.show()\n",
    "scores = cross_val_score(KN_classifier, X, Y, cv=5)\n",
    "scores.sum()/5\n",
    "data['KN_pred'] = KN_classifier.predict(X)"
   ]
  },
  {
   "cell_type": "markdown",
   "metadata": {},
   "source": [
    "### Support-Vector Classifier"
   ]
  },
  {
   "cell_type": "code",
   "execution_count": 8,
   "metadata": {},
   "outputs": [],
   "source": [
    "# svc_classifier = SVC(kernel =  'rbf', random_state = 123)\n",
    "# params_svc = [{'C':[1,10,100,1000], 'kernel': ['linear']}, \n",
    "#               {'C':[1,10,100,1000], 'kernel': [ 'rbf'], 'gamma' :[0.1,0.2,0.3,0.4,0.5,0.6,0.7,0.8,0.9]}]\n",
    "# grid_search_svc = GridSearchCV(estimator = svc_classifier, param_grid = params_svc, scoring = 'accuracy', cv= 10, n_jobs = -1)\n",
    "\n",
    "# grid_search_svc =grid_search_svc.fit(x_train, y_train)\n",
    "# best_accuracy = grid_search_svc.best_score_\n",
    "# best_estimators = grid_search_svc.best_params_\n",
    "# print(best_accuracy)\n",
    "# print(best_estimators)\n"
   ]
  },
  {
   "cell_type": "code",
   "execution_count": 24,
   "metadata": {},
   "outputs": [
    {
     "name": "stdout",
     "output_type": "stream",
     "text": [
      "0.9779559118236473\n",
      "              precision    recall  f1-score   support\n",
      "\n",
      "       False       0.98      1.00      0.99      1340\n",
      "        True       1.00      0.79      0.88       157\n",
      "\n",
      "    accuracy                           0.98      1497\n",
      "   macro avg       0.99      0.89      0.94      1497\n",
      "weighted avg       0.98      0.98      0.98      1497\n",
      "\n"
     ]
    },
    {
     "data": {
      "image/png": "[encoded data removed]",
      "text/plain": [
       "<Figure size 432x288 with 1 Axes>"
      ]
     },
     "metadata": {
      "needs_background": "light"
     },
     "output_type": "display_data"
    }
   ],
   "source": [
    "svc_classifier = SVC( kernel =  'rbf', random_state = 123)\n",
    "svc_classifier.fit(x_train, y_train)\n",
    "y_pred = svc_classifier.predict(x_test)\n",
    "print(accuracy_score(y_test, y_pred))\n",
    "print(classification_report(y_test,y_pred))\n",
    "viz = ConfusionMatrix(svc_classifier)\n",
    "viz.fit(x_train, y_train)\n",
    "viz.score(x_test, y_test)\n",
    "viz.show()\n",
    "scores = cross_val_score(svc_classifier, X, Y, cv=5)\n",
    "scores.sum()/5\n",
    "data['svc_pred'] = svc_classifier.predict(X)"
   ]
  },
  {
   "cell_type": "markdown",
   "metadata": {},
   "source": [
    "### Decision Tree Classifier"
   ]
  },
  {
   "cell_type": "code",
   "execution_count": 26,
   "metadata": {},
   "outputs": [
    {
     "name": "stdout",
     "output_type": "stream",
     "text": [
      "0.9645958583834335\n",
      "              precision    recall  f1-score   support\n",
      "\n",
      "       False       0.98      0.98      0.98      1340\n",
      "        True       0.82      0.85      0.83       157\n",
      "\n",
      "    accuracy                           0.96      1497\n",
      "   macro avg       0.90      0.91      0.91      1497\n",
      "weighted avg       0.97      0.96      0.96      1497\n",
      "\n"
     ]
    },
    {
     "data": {
      "image/png": "[encoded data removed]",
      "text/plain": [
       "<Figure size 432x288 with 1 Axes>"
      ]
     },
     "metadata": {
      "needs_background": "light"
     },
     "output_type": "display_data"
    }
   ],
   "source": [
    "DC_classifier = DecisionTreeClassifier(criterion = 'entropy', random_state = 123)\n",
    "DC_classifier.fit(x_train, y_train)\n",
    "y_pred = DC_classifier.predict(x_test)\n",
    "print(accuracy_score(y_test, y_pred))\n",
    "print(classification_report(y_test,y_pred))\n",
    "viz = ConfusionMatrix(DC_classifier)\n",
    "viz.fit(x_train, y_train)\n",
    "viz.score(x_test, y_test)\n",
    "viz.show()\n",
    "scores = cross_val_score(DC_classifier, X, Y, cv=5)\n",
    "scores.sum()/5\n",
    "data['DC_pred'] = DC_classifier.predict(X)"
   ]
  },
  {
   "cell_type": "markdown",
   "metadata": {},
   "source": [
    "### Random Forest Classifier"
   ]
  },
  {
   "cell_type": "code",
   "execution_count": 27,
   "metadata": {},
   "outputs": [
    {
     "name": "stdout",
     "output_type": "stream",
     "text": [
      "0.9645958583834335\n",
      "              precision    recall  f1-score   support\n",
      "\n",
      "       False       0.98      0.98      0.98      1340\n",
      "        True       0.82      0.85      0.83       157\n",
      "\n",
      "    accuracy                           0.96      1497\n",
      "   macro avg       0.90      0.91      0.91      1497\n",
      "weighted avg       0.97      0.96      0.96      1497\n",
      "\n"
     ]
    },
    {
     "data": {
      "image/png": "[encoded data removed]",
      "text/plain": [
       "<Figure size 432x288 with 1 Axes>"
      ]
     },
     "metadata": {
      "needs_background": "light"
     },
     "output_type": "display_data"
    }
   ],
   "source": [
    "rf_model = RandomForestClassifier(random_state = 123, n_estimators = 500, criterion = 'entropy',max_leaf_nodes=1000, max_depth  = 15,  n_jobs=-1)\n",
    "rf_model.fit(x_train, y_train)\n",
    "y_pred_rf = rf_model.predict(x_test)\n",
    "y_pred_proba = rf_model.predict_proba(x_test)\n",
    "y_pred_proba = [p[1] for p in y_pred_proba]\n",
    "print(accuracy_score(y_test, y_pred))\n",
    "print(classification_report(y_test,y_pred))\n",
    "viz = ConfusionMatrix(rf_model)\n",
    "viz.fit(x_train, y_train)\n",
    "viz.score(x_test, y_test)\n",
    "viz.show()\n",
    "scores = cross_val_score(rf_model, X, Y, cv=5)\n",
    "scores.sum()/5\n",
    "data['rf_pred'] = rf_model.predict(X)"
   ]
  },
  {
   "cell_type": "markdown",
   "metadata": {},
   "source": [
    "### XGBoost classifier"
   ]
  },
  {
   "cell_type": "code",
   "execution_count": 28,
   "metadata": {},
   "outputs": [
    {
     "name": "stdout",
     "output_type": "stream",
     "text": [
      "0.978623914495658\n",
      "              precision    recall  f1-score   support\n",
      "\n",
      "       False       0.98      1.00      0.99      1340\n",
      "        True       1.00      0.80      0.89       157\n",
      "\n",
      "    accuracy                           0.98      1497\n",
      "   macro avg       0.99      0.90      0.94      1497\n",
      "weighted avg       0.98      0.98      0.98      1497\n",
      "\n"
     ]
    },
    {
     "data": {
      "image/png": "[encoded data removed]",
      "text/plain": [
       "<Figure size 432x288 with 1 Axes>"
      ]
     },
     "metadata": {
      "needs_background": "light"
     },
     "output_type": "display_data"
    }
   ],
   "source": [
    "steps = 20  # The number of training iterations\n",
    "xgb_model = XGBClassifier( eta = 0.3,max_depth = 5, objective = 'multi:softprob', scale_pos_weight = 1, num_class = 3)\n",
    "xgb_model.fit(x_train, y_train)\n",
    "y_preds = xgb_model.predict(x_test)\n",
    "print(accuracy_score(y_test, y_preds))\n",
    "print(classification_report(y_test,y_preds))\n",
    "viz = ConfusionMatrix(xgb_model)\n",
    "viz.fit(x_train, y_train)\n",
    "viz.score(x_test, y_test)\n",
    "viz.show()\n",
    "scores = cross_val_score(xgb_model, X, Y, cv=5)\n",
    "scores.sum()/5\n",
    "data['xgb_pred'] = xgb_model.predict(X)"
   ]
  },
  {
   "cell_type": "code",
   "execution_count": 15,
   "metadata": {},
   "outputs": [
    {
     "data": {
      "text/html": [
       "<div>\n",
       "<style scoped>\n",
       "    .dataframe tbody tr th:only-of-type {\n",
       "        vertical-align: middle;\n",
       "    }\n",
       "\n",
       "    .dataframe tbody tr th {\n",
       "        vertical-align: top;\n",
       "    }\n",
       "\n",
       "    .dataframe thead th {\n",
       "        text-align: right;\n",
       "    }\n",
       "</style>\n",
       "<table border=\"1\" class=\"dataframe\">\n",
       "  <thead>\n",
       "    <tr style=\"text-align: right;\">\n",
       "      <th></th>\n",
       "      <th>size</th>\n",
       "      <th>ni</th>\n",
       "      <th>zscore</th>\n",
       "      <th>leverage</th>\n",
       "      <th>prloss</th>\n",
       "      <th>chgdt</th>\n",
       "      <th>cfo</th>\n",
       "      <th>liquidity</th>\n",
       "      <th>mkbk</th>\n",
       "      <th>litigate</th>\n",
       "      <th>...</th>\n",
       "      <th>2012</th>\n",
       "      <th>2013</th>\n",
       "      <th>2014</th>\n",
       "      <th>2015</th>\n",
       "      <th>2016</th>\n",
       "      <th>2017</th>\n",
       "      <th>2018</th>\n",
       "      <th>bankruptcy</th>\n",
       "      <th>probability_score</th>\n",
       "      <th>predicted_label</th>\n",
       "    </tr>\n",
       "  </thead>\n",
       "  <tbody>\n",
       "    <tr>\n",
       "      <th>1877</th>\n",
       "      <td>0.662708</td>\n",
       "      <td>0.096449</td>\n",
       "      <td>-0.068007</td>\n",
       "      <td>-0.074109</td>\n",
       "      <td>0.117563</td>\n",
       "      <td>-0.008747</td>\n",
       "      <td>0.097606</td>\n",
       "      <td>-0.719299</td>\n",
       "      <td>-0.004026</td>\n",
       "      <td>-0.673335</td>\n",
       "      <td>...</td>\n",
       "      <td>-0.174461</td>\n",
       "      <td>-0.207903</td>\n",
       "      <td>-0.178885</td>\n",
       "      <td>-0.160106</td>\n",
       "      <td>-0.172417</td>\n",
       "      <td>-0.176484</td>\n",
       "      <td>-0.099946</td>\n",
       "      <td>False</td>\n",
       "      <td>0.003341</td>\n",
       "      <td>False</td>\n",
       "    </tr>\n",
       "    <tr>\n",
       "      <th>4427</th>\n",
       "      <td>0.197077</td>\n",
       "      <td>0.051641</td>\n",
       "      <td>-0.059043</td>\n",
       "      <td>-0.075824</td>\n",
       "      <td>0.117563</td>\n",
       "      <td>-0.008747</td>\n",
       "      <td>0.068863</td>\n",
       "      <td>-0.183933</td>\n",
       "      <td>0.031367</td>\n",
       "      <td>1.485145</td>\n",
       "      <td>...</td>\n",
       "      <td>-0.174461</td>\n",
       "      <td>-0.207903</td>\n",
       "      <td>-0.178885</td>\n",
       "      <td>-0.160106</td>\n",
       "      <td>-0.172417</td>\n",
       "      <td>-0.176484</td>\n",
       "      <td>-0.099946</td>\n",
       "      <td>False</td>\n",
       "      <td>0.003349</td>\n",
       "      <td>False</td>\n",
       "    </tr>\n",
       "    <tr>\n",
       "      <th>3043</th>\n",
       "      <td>0.072761</td>\n",
       "      <td>0.067511</td>\n",
       "      <td>-0.061769</td>\n",
       "      <td>-0.081801</td>\n",
       "      <td>0.117563</td>\n",
       "      <td>-0.008747</td>\n",
       "      <td>0.033182</td>\n",
       "      <td>0.953750</td>\n",
       "      <td>-0.001693</td>\n",
       "      <td>-0.673335</td>\n",
       "      <td>...</td>\n",
       "      <td>-0.174461</td>\n",
       "      <td>-0.207903</td>\n",
       "      <td>-0.178885</td>\n",
       "      <td>-0.160106</td>\n",
       "      <td>-0.172417</td>\n",
       "      <td>-0.176484</td>\n",
       "      <td>-0.099946</td>\n",
       "      <td>False</td>\n",
       "      <td>0.048711</td>\n",
       "      <td>False</td>\n",
       "    </tr>\n",
       "    <tr>\n",
       "      <th>2835</th>\n",
       "      <td>0.181057</td>\n",
       "      <td>0.076228</td>\n",
       "      <td>-0.065545</td>\n",
       "      <td>-0.074441</td>\n",
       "      <td>0.117563</td>\n",
       "      <td>-0.008747</td>\n",
       "      <td>0.112562</td>\n",
       "      <td>-0.731245</td>\n",
       "      <td>-0.004394</td>\n",
       "      <td>-0.673335</td>\n",
       "      <td>...</td>\n",
       "      <td>-0.174461</td>\n",
       "      <td>-0.207903</td>\n",
       "      <td>-0.178885</td>\n",
       "      <td>-0.160106</td>\n",
       "      <td>-0.172417</td>\n",
       "      <td>-0.176484</td>\n",
       "      <td>-0.099946</td>\n",
       "      <td>False</td>\n",
       "      <td>0.000518</td>\n",
       "      <td>False</td>\n",
       "    </tr>\n",
       "    <tr>\n",
       "      <th>6592</th>\n",
       "      <td>-0.183904</td>\n",
       "      <td>0.056201</td>\n",
       "      <td>-0.038326</td>\n",
       "      <td>0.047136</td>\n",
       "      <td>0.117563</td>\n",
       "      <td>-0.008747</td>\n",
       "      <td>-0.059689</td>\n",
       "      <td>-0.737850</td>\n",
       "      <td>-0.005284</td>\n",
       "      <td>1.485145</td>\n",
       "      <td>...</td>\n",
       "      <td>-0.174461</td>\n",
       "      <td>4.809936</td>\n",
       "      <td>-0.178885</td>\n",
       "      <td>-0.160106</td>\n",
       "      <td>-0.172417</td>\n",
       "      <td>-0.176484</td>\n",
       "      <td>-0.099946</td>\n",
       "      <td>False</td>\n",
       "      <td>0.012122</td>\n",
       "      <td>False</td>\n",
       "    </tr>\n",
       "  </tbody>\n",
       "</table>\n",
       "<p>5 rows × 41 columns</p>\n",
       "</div>"
      ],
      "text/plain": [
       "          size        ni    zscore  leverage    prloss     chgdt       cfo  \\\n",
       "1877  0.662708  0.096449 -0.068007 -0.074109  0.117563 -0.008747  0.097606   \n",
       "4427  0.197077  0.051641 -0.059043 -0.075824  0.117563 -0.008747  0.068863   \n",
       "3043  0.072761  0.067511 -0.061769 -0.081801  0.117563 -0.008747  0.033182   \n",
       "2835  0.181057  0.076228 -0.065545 -0.074441  0.117563 -0.008747  0.112562   \n",
       "6592 -0.183904  0.056201 -0.038326  0.047136  0.117563 -0.008747 -0.059689   \n",
       "\n",
       "      liquidity      mkbk  litigate  ...      2012      2013      2014  \\\n",
       "1877  -0.719299 -0.004026 -0.673335  ... -0.174461 -0.207903 -0.178885   \n",
       "4427  -0.183933  0.031367  1.485145  ... -0.174461 -0.207903 -0.178885   \n",
       "3043   0.953750 -0.001693 -0.673335  ... -0.174461 -0.207903 -0.178885   \n",
       "2835  -0.731245 -0.004394 -0.673335  ... -0.174461 -0.207903 -0.178885   \n",
       "6592  -0.737850 -0.005284  1.485145  ... -0.174461  4.809936 -0.178885   \n",
       "\n",
       "          2015      2016      2017      2018  bankruptcy  probability_score  \\\n",
       "1877 -0.160106 -0.172417 -0.176484 -0.099946       False           0.003341   \n",
       "4427 -0.160106 -0.172417 -0.176484 -0.099946       False           0.003349   \n",
       "3043 -0.160106 -0.172417 -0.176484 -0.099946       False           0.048711   \n",
       "2835 -0.160106 -0.172417 -0.176484 -0.099946       False           0.000518   \n",
       "6592 -0.160106 -0.172417 -0.176484 -0.099946       False           0.012122   \n",
       "\n",
       "      predicted_label  \n",
       "1877            False  \n",
       "4427            False  \n",
       "3043            False  \n",
       "2835            False  \n",
       "6592            False  \n",
       "\n",
       "[5 rows x 41 columns]"
      ]
     },
     "execution_count": 15,
     "metadata": {},
     "output_type": "execute_result"
    }
   ],
   "source": [
    "testing['probability_score'] =  y_pred_proba\n",
    "testing['predicted_label'] = y_pred_rf\n",
    "testing.to_csv('D:/research-assistant/datasets/test2.csv')\n",
    "testing.head()"
   ]
  },
  {
   "cell_type": "code",
   "execution_count": 29,
   "metadata": {},
   "outputs": [],
   "source": [
    "data.to_csv('D:/research-assistant/datasets/data1.0.csv')"
   ]
  },
  {
   "cell_type": "code",
   "execution_count": null,
   "metadata": {},
   "outputs": [],
   "source": []
  }
 ],
 "metadata": {
  "kernelspec": {
   "display_name": "Python 3",
   "language": "python",
   "name": "python3"
  },
  "language_info": {
   "codemirror_mode": {
    "name": "ipython",
    "version": 3
   },
   "file_extension": ".py",
   "mimetype": "text/x-python",
   "name": "python",
   "nbconvert_exporter": "python",
   "pygments_lexer": "ipython3",
   "version": "3.7.5"
  }
 },
 "nbformat": 4,
 "nbformat_minor": 4
}
